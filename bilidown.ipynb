{
 "cells": [
  {
   "cell_type": "code",
   "execution_count": 5,
   "id": "initial_id",
   "metadata": {
    "collapsed": true,
    "ExecuteTime": {
     "end_time": "2023-12-02T10:21:46.508616400Z",
     "start_time": "2023-12-02T10:21:46.471285500Z"
    }
   },
   "outputs": [],
   "source": [
    "import time\n",
    "import requests\n",
    "import dotenv\n",
    "from VideoClass import *\n",
    "\n",
    "BV = \"BV1k24y197KC\"\n",
    "bili_key = dotenv.get_key(\".env\", \"BILI_KEY\")\n",
    "header = {\n",
    "    \"User-Agent\": \"Mozilla/5.0 (Windows NT 10.0; Win64; x64) AppleWebKit/537.36 (KHTML, like Gecko) Chrome/121.0.0.0 Safari/537.36 Edg/121.0.0.0\",\n",
    "    \"Accept\": \"application/json, text/plain, */*\",\n",
    "    \"Accept-Encoding\": \"gzip, deflate, br\",\n",
    "    \"Accept-Language\": \"zh-CN,zh;q=0.9,en;q=0.8,en-GB;q=0.7,en-US;q=0.6,ko;q=0.5\",\n",
    "}\n"
   ]
  },
  {
   "cell_type": "markdown",
   "source": [
    "爬虫获取视频json"
   ],
   "metadata": {
    "collapsed": false
   },
   "id": "397c4e49e28eb05e"
  },
  {
   "cell_type": "code",
   "execution_count": 6,
   "outputs": [
    {
     "data": {
      "text/plain": "{'code': 0,\n 'message': '0',\n 'ttl': 1,\n 'data': {'bvid': 'BV1k24y197KC',\n  'aid': 688879425,\n  'videos': 32,\n  'tid': 231,\n  'tname': '计算机技术',\n  'copyright': 1,\n  'pic': 'http://i2.hdslb.com/bfs/archive/a0f11a138432271d0ce40b9c6a96d577d25acf43.jpg',\n  'title': 'Kubernetes入门90分钟精讲(合集)—可能是B站最简单的K8S教程',\n  'pubdate': 1665808200,\n  'ctime': 1665300987,\n  'desc': '课件地址：https://www.yuque.com/wukong-zorrm/qdoy5p',\n  'desc_v2': [{'raw_text': '课件地址：https://www.yuque.com/wukong-zorrm/qdoy5p',\n    'type': 1,\n    'biz_id': 0}],\n  'state': 0,\n  'duration': 5441,\n  'rights': {'bp': 0,\n   'elec': 0,\n   'download': 1,\n   'movie': 0,\n   'pay': 0,\n   'hd5': 0,\n   'no_reprint': 1,\n   'autoplay': 1,\n   'ugc_pay': 0,\n   'is_cooperation': 0,\n   'ugc_pay_preview': 0,\n   'no_background': 0,\n   'clean_mode': 0,\n   'is_stein_gate': 0,\n   'is_360': 0,\n   'no_share': 0,\n   'arc_pay': 0,\n   'free_watch': 0},\n  'owner': {'mid': 356591580,\n   'name': '一小时技术精讲',\n   'face': 'https://i0.hdslb.com/bfs/face/cbf97bddf076c45bbe5ea7e463281700d8a6326e.jpg'},\n  'stat': {'aid': 688879425,\n   'view': 60455,\n   'danmaku': 136,\n   'reply': 235,\n   'favorite': 4145,\n   'coin': 1261,\n   'share': 297,\n   'now_rank': 0,\n   'his_rank': 0,\n   'like': 1313,\n   'dislike': 0,\n   'evaluation': '',\n   'argue_msg': '',\n   'vt': 0},\n  'dynamic': '可能是B站最简单的K8s入门教程！',\n  'cid': 883837831,\n  'dimension': {'width': 1920, 'height': 1080, 'rotate': 0},\n  'premiere': None,\n  'teenage_mode': 0,\n  'is_chargeable_season': False,\n  'is_story': False,\n  'is_upower_exclusive': False,\n  'is_upower_play': False,\n  'enable_vt': 0,\n  'vt_display': '',\n  'no_cache': False,\n  'pages': [{'cid': 883837831,\n    'page': 1,\n    'from': 'vupload',\n    'part': '课程导读',\n    'duration': 71,\n    'vid': '',\n    'weblink': '',\n    'dimension': {'width': 1920, 'height': 1080, 'rotate': 0},\n    'first_frame': 'http://i1.hdslb.com/bfs/storyff/n221107qn1yscu5oakmrbg39acuv20cs_firsti.jpg'},\n   {'cid': 856795535,\n    'page': 2,\n    'from': 'vupload',\n    'part': '课程目录',\n    'duration': 28,\n    'vid': '',\n    'weblink': '',\n    'dimension': {'width': 1920, 'height': 1080, 'rotate': 0},\n    'first_frame': 'http://i0.hdslb.com/bfs/storyff/n2210090830jc73ogktusa195l625g0k_firsti.jpg'},\n   {'cid': 856795622,\n    'page': 3,\n    'from': 'vupload',\n    'part': 'kubernetes简介',\n    'duration': 184,\n    'vid': '',\n    'weblink': '',\n    'dimension': {'width': 1920, 'height': 1080, 'rotate': 0},\n    'first_frame': 'http://i0.hdslb.com/bfs/storyff/n221009142rymeabe6jshhhxiqf2azzh_firsti.jpg'},\n   {'cid': 856795680,\n    'page': 4,\n    'from': 'vupload',\n    'part': 'kubernetes架构',\n    'duration': 176,\n    'vid': '',\n    'weblink': '',\n    'dimension': {'width': 1920, 'height': 1080, 'rotate': 0},\n    'first_frame': 'http://i1.hdslb.com/bfs/storyff/n221009083834wdl9a8ibv1w7mzpktoe_firsti.jpg'},\n   {'cid': 856798978,\n    'page': 5,\n    'from': 'vupload',\n    'part': '安装minikube',\n    'duration': 210,\n    'vid': '',\n    'weblink': '',\n    'dimension': {'width': 1920, 'height': 1080, 'rotate': 0},\n    'first_frame': 'http://i2.hdslb.com/bfs/storyff/n221009062x0lw8vx5xqib110t25gd95_firsti.jpg'},\n   {'cid': 856802334,\n    'page': 6,\n    'from': 'vupload',\n    'part': '安装k3s集群',\n    'duration': 220,\n    'vid': '',\n    'weblink': '',\n    'dimension': {'width': 1920, 'height': 1080, 'rotate': 0},\n    'first_frame': 'http://i2.hdslb.com/bfs/storyff/n221009152s2t439yijms22wpgo8g31p_firsti.jpg'},\n   {'cid': 857885419,\n    'page': 7,\n    'from': 'vupload',\n    'part': 'containerd镜像加速',\n    'duration': 79,\n    'vid': '',\n    'weblink': '',\n    'dimension': {'width': 1920, 'height': 1080, 'rotate': 0},\n    'first_frame': 'http://i0.hdslb.com/bfs/storyff/n221010qn2pzs3hl97y6um3j1bxk0a1m_firsti.jpg'},\n   {'cid': 857884887,\n    'page': 8,\n    'from': 'vupload',\n    'part': 'Pod容器集',\n    'duration': 166,\n    'vid': '',\n    'weblink': '',\n    'dimension': {'width': 1920, 'height': 1080, 'rotate': 0},\n    'first_frame': 'http://i2.hdslb.com/bfs/storyff/n221010qn1wv8n4csor0vo2k68rrxpek_firsti.jpg'},\n   {'cid': 859303274,\n    'page': 9,\n    'from': 'vupload',\n    'part': 'Deployment部署&ReplicaSet副本集',\n    'duration': 368,\n    'vid': '',\n    'weblink': '',\n    'dimension': {'width': 1920, 'height': 1080, 'rotate': 0},\n    'first_frame': 'http://i1.hdslb.com/bfs/storyff/n221012qn3ly7lj4dq11e332d6z9xyuz_firsti.jpg'},\n   {'cid': 859753399,\n    'page': 10,\n    'from': 'vupload',\n    'part': 'Service服务',\n    'duration': 287,\n    'vid': '',\n    'weblink': '',\n    'dimension': {'width': 1920, 'height': 1080, 'rotate': 0},\n    'first_frame': 'http://i0.hdslb.com/bfs/storyff/n221012a22fd7nirdk93w41667min9zt_firsti.jpg'},\n   {'cid': 862402960,\n    'page': 11,\n    'from': 'vupload',\n    'part': 'Namespace命名空间',\n    'duration': 183,\n    'vid': '',\n    'weblink': '',\n    'dimension': {'width': 1920, 'height': 1080, 'rotate': 0},\n    'first_frame': 'http://i2.hdslb.com/bfs/storyff/n221015qnebb2wzpkvgv21btidm6uxwz_firsti.jpg'},\n   {'cid': 861209674,\n    'page': 12,\n    'from': 'vupload',\n    'part': 'YAML语法',\n    'duration': 168,\n    'vid': '',\n    'weblink': '',\n    'dimension': {'width': 1920, 'height': 1080, 'rotate': 0},\n    'first_frame': 'http://i0.hdslb.com/bfs/storyff/n221014qn3r356b7cqe3j59fa48as7tf_firsti.jpg'},\n   {'cid': 862156325,\n    'page': 13,\n    'from': 'vupload',\n    'part': '声明式对象配置',\n    'duration': 256,\n    'vid': '',\n    'weblink': '',\n    'dimension': {'width': 1920, 'height': 1080, 'rotate': 0},\n    'first_frame': 'http://i1.hdslb.com/bfs/storyff/n221015qn1iariu782t7ob3d64t7vfgc_firsti.jpg'},\n   {'cid': 862294714,\n    'page': 14,\n    'from': 'vupload',\n    'part': '容器运行时接口(CRI)与镜像导入导出',\n    'duration': 210,\n    'vid': '',\n    'weblink': '',\n    'dimension': {'width': 1920, 'height': 1080, 'rotate': 0},\n    'first_frame': 'http://i1.hdslb.com/bfs/storyff/n221015qn3eidya3hx2z2v3ob4ffkn8l_firsti.jpg'},\n   {'cid': 864296440,\n    'page': 15,\n    'from': 'vupload',\n    'part': '金丝雀部署(灰度发布)',\n    'duration': 318,\n    'vid': '',\n    'weblink': '',\n    'dimension': {'width': 1920, 'height': 1080, 'rotate': 0},\n    'first_frame': 'http://i0.hdslb.com/bfs/storyff/n221017qn1w7ykhk3ttb8l3vwfu9bft3_firsti.jpg'},\n   {'cid': 875412460,\n    'page': 16,\n    'from': 'vupload',\n    'part': '运行有状态应用',\n    'duration': 49,\n    'vid': '',\n    'weblink': '',\n    'dimension': {'width': 1920, 'height': 1080, 'rotate': 0},\n    'first_frame': 'http://i0.hdslb.com/bfs/storyff/n221029qn1nefko90jeawwrz0yt9a63b_firsti.jpg'},\n   {'cid': 875413113,\n    'page': 17,\n    'from': 'vupload',\n    'part': '创建mysql数据库',\n    'duration': 138,\n    'vid': '',\n    'weblink': '',\n    'dimension': {'width': 1920, 'height': 1080, 'rotate': 0},\n    'first_frame': 'http://i2.hdslb.com/bfs/storyff/n221029qn3lr7q3oqm677f2g6lgbwppe_firsti.jpg'},\n   {'cid': 875413649,\n    'page': 18,\n    'from': 'vupload',\n    'part': 'ConfigMap',\n    'duration': 163,\n    'vid': '',\n    'weblink': '',\n    'dimension': {'width': 1920, 'height': 1080, 'rotate': 0},\n    'first_frame': 'http://i0.hdslb.com/bfs/storyff/n221029qn2mfc4jtf3rk17f5e4cqbl3c_firsti.jpg'},\n   {'cid': 875414056,\n    'page': 19,\n    'from': 'vupload',\n    'part': 'Secret',\n    'duration': 96,\n    'vid': '',\n    'weblink': '',\n    'dimension': {'width': 1920, 'height': 1080, 'rotate': 0},\n    'first_frame': 'http://i2.hdslb.com/bfs/storyff/n221029qn21mrs1ovicfydzjm9v2s3o3_firsti.jpg'},\n   {'cid': 875414348,\n    'page': 20,\n    'from': 'vupload',\n    'part': '卷(Volume)',\n    'duration': 117,\n    'vid': '',\n    'weblink': '',\n    'dimension': {'width': 1920, 'height': 1080, 'rotate': 0},\n    'first_frame': 'http://i0.hdslb.com/bfs/storyff/n221029qncxqfe9ocp19f26hxpsnvdou_firsti.jpg'},\n   {'cid': 875414765,\n    'page': 21,\n    'from': 'vupload',\n    'part': '临时卷(EV)',\n    'duration': 131,\n    'vid': '',\n    'weblink': '',\n    'dimension': {'width': 1920, 'height': 1080, 'rotate': 0},\n    'first_frame': 'http://i1.hdslb.com/bfs/storyff/n221029qnhcjkfpj4gekz1l8ply9z44f_firsti.jpg'},\n   {'cid': 875415149,\n    'page': 22,\n    'from': 'vupload',\n    'part': '持久卷和持久卷声明(PV&PVC)',\n    'duration': 134,\n    'vid': '',\n    'weblink': '',\n    'dimension': {'width': 1920, 'height': 1080, 'rotate': 0},\n    'first_frame': 'http://i1.hdslb.com/bfs/storyff/n221029qno561jj006c0z3g5f0j3bbwr_firsti.jpg'},\n   {'cid': 875415642,\n    'page': 23,\n    'from': 'vupload',\n    'part': '使用持久卷和声明',\n    'duration': 247,\n    'vid': '',\n    'weblink': '',\n    'dimension': {'width': 1920, 'height': 1080, 'rotate': 0},\n    'first_frame': 'http://i2.hdslb.com/bfs/storyff/n221029qn36yhbu1zr2js7tct3i3y5s5_firsti.jpg'},\n   {'cid': 875416069,\n    'page': 24,\n    'from': 'vupload',\n    'part': '卷的状态和绑定模式',\n    'duration': 109,\n    'vid': '',\n    'weblink': '',\n    'dimension': {'width': 1920, 'height': 1080, 'rotate': 0},\n    'first_frame': 'http://i0.hdslb.com/bfs/storyff/n221029qn3iwkfsrkvv3wz22kxbbbybl_firsti.jpg'},\n   {'cid': 875416632,\n    'page': 25,\n    'from': 'vupload',\n    'part': '存储类(StorageClass)',\n    'duration': 213,\n    'vid': '',\n    'weblink': '',\n    'dimension': {'width': 1920, 'height': 1080, 'rotate': 0},\n    'first_frame': 'http://i1.hdslb.com/bfs/storyff/n221029qn1jkrm313w4wv133ydsylkuw_firsti.jpg'},\n   {'cid': 875417123,\n    'page': 26,\n    'from': 'vupload',\n    'part': '有状态应用集(StatefulSet)',\n    'duration': 140,\n    'vid': '',\n    'weblink': '',\n    'dimension': {'width': 1920, 'height': 1080, 'rotate': 0},\n    'first_frame': 'http://i2.hdslb.com/bfs/storyff/n221029qn1zutw50fblmvt1j6um97j13_firsti.jpg'},\n   {'cid': 875417701,\n    'page': 27,\n    'from': 'vupload',\n    'part': '无头服务(Headless Service)',\n    'duration': 143,\n    'vid': '',\n    'weblink': '',\n    'dimension': {'width': 1920, 'height': 1080, 'rotate': 0},\n    'first_frame': 'http://i0.hdslb.com/bfs/storyff/n221029qn5b98cmrpgj643rdrq28jy2z_firsti.jpg'},\n   {'cid': 875418034,\n    'page': 28,\n    'from': 'vupload',\n    'part': 'MySQL主从复制',\n    'duration': 229,\n    'vid': '',\n    'weblink': '',\n    'dimension': {'width': 1920, 'height': 1080, 'rotate': 0},\n    'first_frame': 'http://i2.hdslb.com/bfs/storyff/n221029qn2cpga8uadzenft1i85vn0o9_firsti.jpg'},\n   {'cid': 875418877,\n    'page': 29,\n    'from': 'vupload',\n    'part': '初始化容器和边车(Init containers&sidecar)',\n    'duration': 214,\n    'vid': '',\n    'weblink': '',\n    'dimension': {'width': 1920, 'height': 1080, 'rotate': 0},\n    'first_frame': 'http://i1.hdslb.com/bfs/storyff/n221029qn1c272364eouyvdq9zck54r4_firsti.jpg'},\n   {'cid': 875420243,\n    'page': 30,\n    'from': 'vupload',\n    'part': '端口转发(port-forward)',\n    'duration': 62,\n    'vid': '',\n    'weblink': '',\n    'dimension': {'width': 1920, 'height': 1080, 'rotate': 0},\n    'first_frame': 'http://i0.hdslb.com/bfs/storyff/n221029qn2591wb17ml1om2c2z6nr3x2_firsti.jpg'},\n   {'cid': 875609591,\n    'page': 31,\n    'from': 'vupload',\n    'part': 'Helm的用法',\n    'duration': 173,\n    'vid': '',\n    'weblink': '',\n    'dimension': {'width': 1920, 'height': 1080, 'rotate': 0},\n    'first_frame': 'http://i0.hdslb.com/bfs/storyff/n221029qn2ccexv7wt0i5m1y8hxaex7v_firsti.jpg'},\n   {'cid': 875765330,\n    'page': 32,\n    'from': 'vupload',\n    'part': 'Helm安装MySQL主从集群',\n    'duration': 159,\n    'vid': '',\n    'weblink': '',\n    'dimension': {'width': 1920, 'height': 1080, 'rotate': 0},\n    'first_frame': 'http://i2.hdslb.com/bfs/storyff/n221030qn2nv6t7ize66fp2i3awop6wj_firsti.jpg'}],\n  'subtitle': {'allow_submit': False, 'list': []},\n  'is_season_display': False,\n  'user_garb': {'url_image_ani_cut': ''},\n  'honor_reply': {},\n  'like_icon': '',\n  'need_jump_bv': False,\n  'disable_show_up_info': False}}"
     },
     "execution_count": 6,
     "metadata": {},
     "output_type": "execute_result"
    }
   ],
   "source": [
    "response = requests.get(\"https://bili.zhouql.vip/meta/\" + BV, headers = header)\n",
    "response.encoding = 'utf-8'\n",
    "j = response.json()\n",
    "j"
   ],
   "metadata": {
    "collapsed": false,
    "ExecuteTime": {
     "end_time": "2023-12-02T10:21:47.350150Z",
     "start_time": "2023-12-02T10:21:46.488603800Z"
    }
   },
   "id": "166227ec344f6d25"
  },
  {
   "cell_type": "markdown",
   "source": [
    "获取视频信息，但是不添加下载链接"
   ],
   "metadata": {
    "collapsed": false
   },
   "id": "6f2c24ac6ca10f36"
  },
  {
   "cell_type": "code",
   "execution_count": 7,
   "outputs": [
    {
     "name": "stdout",
     "output_type": "stream",
     "text": [
      "{'cid': 883837831, 'page': 1, 'part': '课程导读', 'duration': 71, 'dimension': {'width': 1920, 'height': 1080, 'rotate': 0}, 'first_frame_url': 'http://i1.hdslb.com/bfs/storyff/n221107qn1yscu5oakmrbg39acuv20cs_firsti.jpg', 'download_url': None}\n",
      "{'cid': 856795535, 'page': 2, 'part': '课程目录', 'duration': 28, 'dimension': {'width': 1920, 'height': 1080, 'rotate': 0}, 'first_frame_url': 'http://i0.hdslb.com/bfs/storyff/n2210090830jc73ogktusa195l625g0k_firsti.jpg', 'download_url': None}\n",
      "{'cid': 856795622, 'page': 3, 'part': 'kubernetes简介', 'duration': 184, 'dimension': {'width': 1920, 'height': 1080, 'rotate': 0}, 'first_frame_url': 'http://i0.hdslb.com/bfs/storyff/n221009142rymeabe6jshhhxiqf2azzh_firsti.jpg', 'download_url': None}\n",
      "{'cid': 856795680, 'page': 4, 'part': 'kubernetes架构', 'duration': 176, 'dimension': {'width': 1920, 'height': 1080, 'rotate': 0}, 'first_frame_url': 'http://i1.hdslb.com/bfs/storyff/n221009083834wdl9a8ibv1w7mzpktoe_firsti.jpg', 'download_url': None}\n",
      "{'cid': 856798978, 'page': 5, 'part': '安装minikube', 'duration': 210, 'dimension': {'width': 1920, 'height': 1080, 'rotate': 0}, 'first_frame_url': 'http://i2.hdslb.com/bfs/storyff/n221009062x0lw8vx5xqib110t25gd95_firsti.jpg', 'download_url': None}\n",
      "{'cid': 856802334, 'page': 6, 'part': '安装k3s集群', 'duration': 220, 'dimension': {'width': 1920, 'height': 1080, 'rotate': 0}, 'first_frame_url': 'http://i2.hdslb.com/bfs/storyff/n221009152s2t439yijms22wpgo8g31p_firsti.jpg', 'download_url': None}\n",
      "{'cid': 857885419, 'page': 7, 'part': 'containerd镜像加速', 'duration': 79, 'dimension': {'width': 1920, 'height': 1080, 'rotate': 0}, 'first_frame_url': 'http://i0.hdslb.com/bfs/storyff/n221010qn2pzs3hl97y6um3j1bxk0a1m_firsti.jpg', 'download_url': None}\n",
      "{'cid': 857884887, 'page': 8, 'part': 'Pod容器集', 'duration': 166, 'dimension': {'width': 1920, 'height': 1080, 'rotate': 0}, 'first_frame_url': 'http://i2.hdslb.com/bfs/storyff/n221010qn1wv8n4csor0vo2k68rrxpek_firsti.jpg', 'download_url': None}\n",
      "{'cid': 859303274, 'page': 9, 'part': 'Deployment部署&ReplicaSet副本集', 'duration': 368, 'dimension': {'width': 1920, 'height': 1080, 'rotate': 0}, 'first_frame_url': 'http://i1.hdslb.com/bfs/storyff/n221012qn3ly7lj4dq11e332d6z9xyuz_firsti.jpg', 'download_url': None}\n",
      "{'cid': 859753399, 'page': 10, 'part': 'Service服务', 'duration': 287, 'dimension': {'width': 1920, 'height': 1080, 'rotate': 0}, 'first_frame_url': 'http://i0.hdslb.com/bfs/storyff/n221012a22fd7nirdk93w41667min9zt_firsti.jpg', 'download_url': None}\n",
      "{'cid': 862402960, 'page': 11, 'part': 'Namespace命名空间', 'duration': 183, 'dimension': {'width': 1920, 'height': 1080, 'rotate': 0}, 'first_frame_url': 'http://i2.hdslb.com/bfs/storyff/n221015qnebb2wzpkvgv21btidm6uxwz_firsti.jpg', 'download_url': None}\n",
      "{'cid': 861209674, 'page': 12, 'part': 'YAML语法', 'duration': 168, 'dimension': {'width': 1920, 'height': 1080, 'rotate': 0}, 'first_frame_url': 'http://i0.hdslb.com/bfs/storyff/n221014qn3r356b7cqe3j59fa48as7tf_firsti.jpg', 'download_url': None}\n",
      "{'cid': 862156325, 'page': 13, 'part': '声明式对象配置', 'duration': 256, 'dimension': {'width': 1920, 'height': 1080, 'rotate': 0}, 'first_frame_url': 'http://i1.hdslb.com/bfs/storyff/n221015qn1iariu782t7ob3d64t7vfgc_firsti.jpg', 'download_url': None}\n",
      "{'cid': 862294714, 'page': 14, 'part': '容器运行时接口(CRI)与镜像导入导出', 'duration': 210, 'dimension': {'width': 1920, 'height': 1080, 'rotate': 0}, 'first_frame_url': 'http://i1.hdslb.com/bfs/storyff/n221015qn3eidya3hx2z2v3ob4ffkn8l_firsti.jpg', 'download_url': None}\n",
      "{'cid': 864296440, 'page': 15, 'part': '金丝雀部署(灰度发布)', 'duration': 318, 'dimension': {'width': 1920, 'height': 1080, 'rotate': 0}, 'first_frame_url': 'http://i0.hdslb.com/bfs/storyff/n221017qn1w7ykhk3ttb8l3vwfu9bft3_firsti.jpg', 'download_url': None}\n",
      "{'cid': 875412460, 'page': 16, 'part': '运行有状态应用', 'duration': 49, 'dimension': {'width': 1920, 'height': 1080, 'rotate': 0}, 'first_frame_url': 'http://i0.hdslb.com/bfs/storyff/n221029qn1nefko90jeawwrz0yt9a63b_firsti.jpg', 'download_url': None}\n",
      "{'cid': 875413113, 'page': 17, 'part': '创建mysql数据库', 'duration': 138, 'dimension': {'width': 1920, 'height': 1080, 'rotate': 0}, 'first_frame_url': 'http://i2.hdslb.com/bfs/storyff/n221029qn3lr7q3oqm677f2g6lgbwppe_firsti.jpg', 'download_url': None}\n",
      "{'cid': 875413649, 'page': 18, 'part': 'ConfigMap', 'duration': 163, 'dimension': {'width': 1920, 'height': 1080, 'rotate': 0}, 'first_frame_url': 'http://i0.hdslb.com/bfs/storyff/n221029qn2mfc4jtf3rk17f5e4cqbl3c_firsti.jpg', 'download_url': None}\n",
      "{'cid': 875414056, 'page': 19, 'part': 'Secret', 'duration': 96, 'dimension': {'width': 1920, 'height': 1080, 'rotate': 0}, 'first_frame_url': 'http://i2.hdslb.com/bfs/storyff/n221029qn21mrs1ovicfydzjm9v2s3o3_firsti.jpg', 'download_url': None}\n",
      "{'cid': 875414348, 'page': 20, 'part': '卷(Volume)', 'duration': 117, 'dimension': {'width': 1920, 'height': 1080, 'rotate': 0}, 'first_frame_url': 'http://i0.hdslb.com/bfs/storyff/n221029qncxqfe9ocp19f26hxpsnvdou_firsti.jpg', 'download_url': None}\n",
      "{'cid': 875414765, 'page': 21, 'part': '临时卷(EV)', 'duration': 131, 'dimension': {'width': 1920, 'height': 1080, 'rotate': 0}, 'first_frame_url': 'http://i1.hdslb.com/bfs/storyff/n221029qnhcjkfpj4gekz1l8ply9z44f_firsti.jpg', 'download_url': None}\n",
      "{'cid': 875415149, 'page': 22, 'part': '持久卷和持久卷声明(PV&PVC)', 'duration': 134, 'dimension': {'width': 1920, 'height': 1080, 'rotate': 0}, 'first_frame_url': 'http://i1.hdslb.com/bfs/storyff/n221029qno561jj006c0z3g5f0j3bbwr_firsti.jpg', 'download_url': None}\n",
      "{'cid': 875415642, 'page': 23, 'part': '使用持久卷和声明', 'duration': 247, 'dimension': {'width': 1920, 'height': 1080, 'rotate': 0}, 'first_frame_url': 'http://i2.hdslb.com/bfs/storyff/n221029qn36yhbu1zr2js7tct3i3y5s5_firsti.jpg', 'download_url': None}\n",
      "{'cid': 875416069, 'page': 24, 'part': '卷的状态和绑定模式', 'duration': 109, 'dimension': {'width': 1920, 'height': 1080, 'rotate': 0}, 'first_frame_url': 'http://i0.hdslb.com/bfs/storyff/n221029qn3iwkfsrkvv3wz22kxbbbybl_firsti.jpg', 'download_url': None}\n",
      "{'cid': 875416632, 'page': 25, 'part': '存储类(StorageClass)', 'duration': 213, 'dimension': {'width': 1920, 'height': 1080, 'rotate': 0}, 'first_frame_url': 'http://i1.hdslb.com/bfs/storyff/n221029qn1jkrm313w4wv133ydsylkuw_firsti.jpg', 'download_url': None}\n",
      "{'cid': 875417123, 'page': 26, 'part': '有状态应用集(StatefulSet)', 'duration': 140, 'dimension': {'width': 1920, 'height': 1080, 'rotate': 0}, 'first_frame_url': 'http://i2.hdslb.com/bfs/storyff/n221029qn1zutw50fblmvt1j6um97j13_firsti.jpg', 'download_url': None}\n",
      "{'cid': 875417701, 'page': 27, 'part': '无头服务(Headless Service)', 'duration': 143, 'dimension': {'width': 1920, 'height': 1080, 'rotate': 0}, 'first_frame_url': 'http://i0.hdslb.com/bfs/storyff/n221029qn5b98cmrpgj643rdrq28jy2z_firsti.jpg', 'download_url': None}\n",
      "{'cid': 875418034, 'page': 28, 'part': 'MySQL主从复制', 'duration': 229, 'dimension': {'width': 1920, 'height': 1080, 'rotate': 0}, 'first_frame_url': 'http://i2.hdslb.com/bfs/storyff/n221029qn2cpga8uadzenft1i85vn0o9_firsti.jpg', 'download_url': None}\n",
      "{'cid': 875418877, 'page': 29, 'part': '初始化容器和边车(Init containers&sidecar)', 'duration': 214, 'dimension': {'width': 1920, 'height': 1080, 'rotate': 0}, 'first_frame_url': 'http://i1.hdslb.com/bfs/storyff/n221029qn1c272364eouyvdq9zck54r4_firsti.jpg', 'download_url': None}\n",
      "{'cid': 875420243, 'page': 30, 'part': '端口转发(port-forward)', 'duration': 62, 'dimension': {'width': 1920, 'height': 1080, 'rotate': 0}, 'first_frame_url': 'http://i0.hdslb.com/bfs/storyff/n221029qn2591wb17ml1om2c2z6nr3x2_firsti.jpg', 'download_url': None}\n",
      "{'cid': 875609591, 'page': 31, 'part': 'Helm的用法', 'duration': 173, 'dimension': {'width': 1920, 'height': 1080, 'rotate': 0}, 'first_frame_url': 'http://i0.hdslb.com/bfs/storyff/n221029qn2ccexv7wt0i5m1y8hxaex7v_firsti.jpg', 'download_url': None}\n",
      "{'cid': 875765330, 'page': 32, 'part': 'Helm安装MySQL主从集群', 'duration': 159, 'dimension': {'width': 1920, 'height': 1080, 'rotate': 0}, 'first_frame_url': 'http://i2.hdslb.com/bfs/storyff/n221030qn2nv6t7ize66fp2i3awop6wj_firsti.jpg', 'download_url': None}\n"
     ]
    }
   ],
   "source": [
    "parts = []\n",
    "for each in j[\"data\"][\"pages\"]:\n",
    "    new_part = VideoPart(\n",
    "        cid = each[\"cid\"],\n",
    "        page = each[\"page\"],\n",
    "        part = each[\"part\"],\n",
    "        duration = each[\"duration\"],\n",
    "        dimension = each[\"dimension\"],\n",
    "        first_frame_url = each[\"first_frame\"],\n",
    "        download_url = None\n",
    "    )\n",
    "    parts.append(new_part)\n",
    "\n",
    "for each in parts:\n",
    "    print(each.__dict__)"
   ],
   "metadata": {
    "collapsed": false,
    "ExecuteTime": {
     "end_time": "2023-12-02T10:21:47.358995700Z",
     "start_time": "2023-12-02T10:21:47.347648700Z"
    }
   },
   "id": "cec75d71646d3426"
  },
  {
   "cell_type": "markdown",
   "source": [
    "获取视频合集信息"
   ],
   "metadata": {
    "collapsed": false
   },
   "id": "b791f8443a610ae8"
  },
  {
   "cell_type": "code",
   "execution_count": 8,
   "outputs": [
    {
     "data": {
      "text/plain": "{'aid': 688879425,\n 'bvid': 'BV1k24y197KC',\n 'title': 'Kubernetes入门90分钟精讲(合集)—可能是B站最简单的K8S教程',\n 'part_num': 32,\n 'parts': [<VideoClass.VideoPart at 0x14eb9d8ad50>,\n  <VideoClass.VideoPart at 0x14eb9d88e90>,\n  <VideoClass.VideoPart at 0x14eb9d8aed0>,\n  <VideoClass.VideoPart at 0x14eb9d8a0d0>,\n  <VideoClass.VideoPart at 0x14eb9d8a810>,\n  <VideoClass.VideoPart at 0x14eb9d8b350>,\n  <VideoClass.VideoPart at 0x14eb9d89d50>,\n  <VideoClass.VideoPart at 0x14eb9d8b450>,\n  <VideoClass.VideoPart at 0x14eb9d8b690>,\n  <VideoClass.VideoPart at 0x14eb9d8b010>,\n  <VideoClass.VideoPart at 0x14eb9d8b250>,\n  <VideoClass.VideoPart at 0x14eb9d88650>,\n  <VideoClass.VideoPart at 0x14eb9d88310>,\n  <VideoClass.VideoPart at 0x14eb9d8a550>,\n  <VideoClass.VideoPart at 0x14eb9d8bcd0>,\n  <VideoClass.VideoPart at 0x14eb9d89150>,\n  <VideoClass.VideoPart at 0x14eb9d8a7d0>,\n  <VideoClass.VideoPart at 0x14eb9d89f10>,\n  <VideoClass.VideoPart at 0x14eb9d8b610>,\n  <VideoClass.VideoPart at 0x14eb9d8b550>,\n  <VideoClass.VideoPart at 0x14eb9d8b510>,\n  <VideoClass.VideoPart at 0x14eb9d8b990>,\n  <VideoClass.VideoPart at 0x14eb9d891d0>,\n  <VideoClass.VideoPart at 0x14eb9d8bf10>,\n  <VideoClass.VideoPart at 0x14eb9d8b850>,\n  <VideoClass.VideoPart at 0x14eb9d8bc90>,\n  <VideoClass.VideoPart at 0x14eb9d8ac90>,\n  <VideoClass.VideoPart at 0x14eb9d8bb10>,\n  <VideoClass.VideoPart at 0x14eb9d8b2d0>,\n  <VideoClass.VideoPart at 0x14eb9d8b590>,\n  <VideoClass.VideoPart at 0x14eb9d8b7d0>,\n  <VideoClass.VideoPart at 0x14eb9d8ba50>],\n 'cover_url': 'http://i2.hdslb.com/bfs/archive/a0f11a138432271d0ce40b9c6a96d577d25acf43.jpg'}"
     },
     "execution_count": 8,
     "metadata": {},
     "output_type": "execute_result"
    }
   ],
   "source": [
    "video_set = VideoSet(\n",
    "        aid = j[\"data\"][\"aid\"],\n",
    "        bvid = j[\"data\"][\"bvid\"],\n",
    "        title = j[\"data\"][\"title\"],\n",
    "        part_num = j[\"data\"][\"videos\"],\n",
    "        parts = parts,\n",
    "        cover_url = j[\"data\"][\"pic\"],\n",
    ")\n",
    "video_set.__dict__"
   ],
   "metadata": {
    "collapsed": false,
    "ExecuteTime": {
     "end_time": "2023-12-02T10:21:47.371926Z",
     "start_time": "2023-12-02T10:21:47.355987100Z"
    }
   },
   "id": "b14b73e485b10bb4"
  },
  {
   "cell_type": "markdown",
   "source": [
    "获取视频下载链接"
   ],
   "metadata": {
    "collapsed": false
   },
   "id": "4a079f16fb16bd58"
  },
  {
   "cell_type": "code",
   "execution_count": 9,
   "outputs": [
    {
     "name": "stdout",
     "output_type": "stream",
     "text": [
      "{'cid': 883837831, 'page': 1, 'part': '课程导读', 'duration': 71, 'dimension': {'width': 1920, 'height': 1080, 'rotate': 0}, 'first_frame_url': 'http://i1.hdslb.com/bfs/storyff/n221107qn1yscu5oakmrbg39acuv20cs_firsti.jpg', 'download_url': 'https://cn-jsnt-ct-01-25.bilivideo.com/upgcxcode/31/78/883837831/883837831-1-16.mp4?e=ig8euxZM2rNcNbRVhwdVhwdlhWdVhwdVhoNvNC8BqJIzNbfq9rVEuxTEnE8L5F6VnEsSTx0vkX8fqJeYTj_lta53NCM=&uipk=5&nbs=1&deadline=1701519703&gen=playurlv2&os=bcache&oi=2043500563&trid=0000d742edc02c604008bb50a3fad609f775h&mid=0&platform=html5&upsig=b2f6d1a31318a6704075672c39cb9e26&uparams=e,uipk,nbs,deadline,gen,os,oi,trid,mid,platform&cdnid=9933&bvc=vod&nettype=0&f=h_0_0&bw=12320&logo=80000000'}\n",
      "{'cid': 856795535, 'page': 2, 'part': '课程目录', 'duration': 28, 'dimension': {'width': 1920, 'height': 1080, 'rotate': 0}, 'first_frame_url': 'http://i0.hdslb.com/bfs/storyff/n2210090830jc73ogktusa195l625g0k_firsti.jpg', 'download_url': 'https://cn-jsnt-ct-01-23.bilivideo.com/upgcxcode/35/55/856795535/856795535-1-16.mp4?e=ig8euxZM2rNcNbRVhwdVhwdlhWdVhwdVhoNvNC8BqJIzNbfq9rVEuxTEnE8L5F6VnEsSTx0vkX8fqJeYTj_lta53NCM=&uipk=5&nbs=1&deadline=1701519706&gen=playurlv2&os=bcache&oi=2043500563&trid=0000303f74c4f69c49f3a91e353d5d1592aeh&mid=0&platform=html5&upsig=464374e7db6d7aa469c5867d4f2fd1f0&uparams=e,uipk,nbs,deadline,gen,os,oi,trid,mid,platform&cdnid=9931&bvc=vod&nettype=0&f=h_0_0&bw=32025&logo=80000000'}\n",
      "{'cid': 856795622, 'page': 3, 'part': 'kubernetes简介', 'duration': 184, 'dimension': {'width': 1920, 'height': 1080, 'rotate': 0}, 'first_frame_url': 'http://i0.hdslb.com/bfs/storyff/n221009142rymeabe6jshhhxiqf2azzh_firsti.jpg', 'download_url': 'https://cn-hbyc-ct-02-16.bilivideo.com/upgcxcode/22/56/856795622/856795622-1-16.mp4?e=ig8euxZM2rNcNbRVhwdVhwdlhWdVhwdVhoNvNC8BqJIzNbfq9rVEuxTEnE8L5F6VnEsSTx0vkX8fqJeYTj_lta53NCM=&uipk=5&nbs=1&deadline=1701519710&gen=playurlv2&os=bcache&oi=2043500563&trid=00003b1e9cd8a3c04d5ea839eacc610f682dh&mid=0&platform=html5&upsig=6d7bd608ea7b6c7fa76c7cf886da1002&uparams=e,uipk,nbs,deadline,gen,os,oi,trid,mid,platform&cdnid=8079&bvc=vod&nettype=0&f=h_0_0&bw=25418&logo=80000000'}\n",
      "{'cid': 856795680, 'page': 4, 'part': 'kubernetes架构', 'duration': 176, 'dimension': {'width': 1920, 'height': 1080, 'rotate': 0}, 'first_frame_url': 'http://i1.hdslb.com/bfs/storyff/n221009083834wdl9a8ibv1w7mzpktoe_firsti.jpg', 'download_url': 'https://cn-zjjh-ct-04-27.bilivideo.com/upgcxcode/80/56/856795680/856795680-1-16.mp4?e=ig8euxZM2rNcNbRVhwdVhwdlhWdVhwdVhoNvNC8BqJIzNbfq9rVEuxTEnE8L5F6VnEsSTx0vkX8fqJeYTj_lta53NCM=&uipk=5&nbs=1&deadline=1701519714&gen=playurlv2&os=bcache&oi=2043500563&trid=0000ab806e75fe854c42bdd001853dbef445h&mid=0&platform=html5&upsig=747649a262b7c2f16e6076a78a984427&uparams=e,uipk,nbs,deadline,gen,os,oi,trid,mid,platform&cdnid=6585&bvc=vod&nettype=0&f=h_0_0&bw=23938&logo=80000000'}\n",
      "{'cid': 856798978, 'page': 5, 'part': '安装minikube', 'duration': 210, 'dimension': {'width': 1920, 'height': 1080, 'rotate': 0}, 'first_frame_url': 'http://i2.hdslb.com/bfs/storyff/n221009062x0lw8vx5xqib110t25gd95_firsti.jpg', 'download_url': 'https://cn-sccd-ct-01-24.bilivideo.com/upgcxcode/78/89/856798978/856798978-1-16.mp4?e=ig8euxZM2rNcNbRVhwdVhwdlhWdVhwdVhoNvNC8BqJIzNbfq9rVEuxTEnE8L5F6VnEsSTx0vkX8fqJeYTj_lta53NCM=&uipk=5&nbs=1&deadline=1701519717&gen=playurlv2&os=bcache&oi=2043500563&trid=000031bd13d59f5c4ae58ada5ebb8d0f9642h&mid=0&platform=html5&upsig=25bc3bf5d6bba746f68884eed46f046d&uparams=e,uipk,nbs,deadline,gen,os,oi,trid,mid,platform&cdnid=62624&bvc=vod&nettype=0&f=h_0_0&bw=52015&logo=80000000'}\n",
      "{'cid': 856802334, 'page': 6, 'part': '安装k3s集群', 'duration': 220, 'dimension': {'width': 1920, 'height': 1080, 'rotate': 0}, 'first_frame_url': 'http://i2.hdslb.com/bfs/storyff/n221009152s2t439yijms22wpgo8g31p_firsti.jpg', 'download_url': 'https://cn-jsnt-ct-01-22.bilivideo.com/upgcxcode/34/23/856802334/856802334-1-16.mp4?e=ig8euxZM2rNcNbRVhwdVhwdlhWdVhwdVhoNvNC8BqJIzNbfq9rVEuxTEnE8L5F6VnEsSTx0vkX8fqJeYTj_lta53NCM=&uipk=5&nbs=1&deadline=1701519721&gen=playurlv2&os=bcache&oi=2043500563&trid=00006687e9a05e1441c0b44ebccff08f19a0h&mid=0&platform=html5&upsig=027d9e4113009e1c6d2bbcab97344772&uparams=e,uipk,nbs,deadline,gen,os,oi,trid,mid,platform&cdnid=9930&bvc=vod&nettype=0&f=h_0_0&bw=51212&logo=80000000'}\n",
      "{'cid': 857885419, 'page': 7, 'part': 'containerd镜像加速', 'duration': 79, 'dimension': {'width': 1920, 'height': 1080, 'rotate': 0}, 'first_frame_url': 'http://i0.hdslb.com/bfs/storyff/n221010qn2pzs3hl97y6um3j1bxk0a1m_firsti.jpg', 'download_url': 'https://cn-jsnt-ct-01-20.bilivideo.com/upgcxcode/19/54/857885419/857885419-1-16.mp4?e=ig8euxZM2rNcNbRVhwdVhwdlhWdVhwdVhoNvNC8BqJIzNbfq9rVEuxTEnE8L5F6VnEsSTx0vkX8fqJeYTj_lta53NCM=&uipk=5&nbs=1&deadline=1701519725&gen=playurlv2&os=bcache&oi=2043500563&trid=0000a7f2e41cdc434a3b8fe6f872f57d69fdh&mid=0&platform=html5&upsig=56a0f5b80334bdd80b75d4c7891e1535&uparams=e,uipk,nbs,deadline,gen,os,oi,trid,mid,platform&cdnid=9928&bvc=vod&nettype=0&f=h_0_0&bw=39767&logo=80000000'}\n",
      "{'cid': 857884887, 'page': 8, 'part': 'Pod容器集', 'duration': 166, 'dimension': {'width': 1920, 'height': 1080, 'rotate': 0}, 'first_frame_url': 'http://i2.hdslb.com/bfs/storyff/n221010qn1wv8n4csor0vo2k68rrxpek_firsti.jpg', 'download_url': 'https://cn-ahwh-ct-01-02.bilivideo.com/upgcxcode/87/48/857884887/857884887-1-16.mp4?e=ig8euxZM2rNcNbRVhwdVhwdlhWdVhwdVhoNvNC8BqJIzNbfq9rVEuxTEnE8L5F6VnEsSTx0vkX8fqJeYTj_lta53NCM=&uipk=5&nbs=1&deadline=1701519728&gen=playurlv2&os=bcache&oi=2043500563&trid=00008bb0e9580b1248148d83a39eb852606bh&mid=0&platform=html5&upsig=dca9b8d61e8cf137ce578761bb5baf89&uparams=e,uipk,nbs,deadline,gen,os,oi,trid,mid,platform&cdnid=63402&bvc=vod&nettype=0&f=h_0_0&bw=39455&logo=80000000'}\n",
      "{'cid': 859303274, 'page': 9, 'part': 'Deployment部署&ReplicaSet副本集', 'duration': 368, 'dimension': {'width': 1920, 'height': 1080, 'rotate': 0}, 'first_frame_url': 'http://i1.hdslb.com/bfs/storyff/n221012qn3ly7lj4dq11e332d6z9xyuz_firsti.jpg', 'download_url': 'https://upos-sz-mirrorali.bilivideo.com/upgcxcode/74/32/859303274/859303274-1-16.mp4?e=ig8euxZM2rNcNbRVhwdVhwdlhWdVhwdVhoNvNC8BqJIzNbfq9rVEuxTEnE8L5F6VnEsSTx0vkX8fqJeYTj_lta53NCM=&uipk=5&nbs=1&deadline=1701519732&gen=playurlv2&os=alibv&oi=2043500563&trid=7625fd7ff4224705915a7926ba103ec0h&mid=0&platform=html5&upsig=b6f844a8f8eee48941bcefa0a26657bf&uparams=e,uipk,nbs,deadline,gen,os,oi,trid,mid,platform&bvc=vod&nettype=0&f=h_0_0&bw=47940&logo=80000000'}\n",
      "{'cid': 859753399, 'page': 10, 'part': 'Service服务', 'duration': 287, 'dimension': {'width': 1920, 'height': 1080, 'rotate': 0}, 'first_frame_url': 'http://i0.hdslb.com/bfs/storyff/n221012a22fd7nirdk93w41667min9zt_firsti.jpg', 'download_url': 'https://upos-sz-mirrorctos.bilivideo.com/upgcxcode/99/33/859753399/859753399-1-16.mp4?e=ig8euxZM2rNcNbRVhwdVhwdlhWdVhwdVhoNvNC8BqJIzNbfq9rVEuxTEnE8L5F6VnEsSTx0vkX8fqJeYTj_lta53NCM=&uipk=5&nbs=1&deadline=1701519736&gen=playurlv2&os=ctosbv&oi=2043500563&trid=af0f75d229994544a9b16a3caaf23725h&mid=0&platform=html5&upsig=9616cb03b78a5d74718f430bc9b493f3&uparams=e,uipk,nbs,deadline,gen,os,oi,trid,mid,platform&bvc=vod&nettype=0&f=h_0_0&bw=33305&logo=80000000'}\n",
      "{'cid': 862402960, 'page': 11, 'part': 'Namespace命名空间', 'duration': 183, 'dimension': {'width': 1920, 'height': 1080, 'rotate': 0}, 'first_frame_url': 'http://i2.hdslb.com/bfs/storyff/n221015qnebb2wzpkvgv21btidm6uxwz_firsti.jpg', 'download_url': 'https://upos-sz-mirrorali.bilivideo.com/upgcxcode/60/29/862402960/862402960-1-16.mp4?e=ig8euxZM2rNcNbRVhwdVhwdlhWdVhwdVhoNvNC8BqJIzNbfq9rVEuxTEnE8L5F6VnEsSTx0vkX8fqJeYTj_lta53NCM=&uipk=5&nbs=1&deadline=1701519739&gen=playurlv2&os=alibv&oi=2043500563&trid=f8011d61afe44268ae1230bde11d6269h&mid=0&platform=html5&upsig=3438ec09554285539de91b2bb996f634&uparams=e,uipk,nbs,deadline,gen,os,oi,trid,mid,platform&bvc=vod&nettype=0&f=h_0_0&bw=48443&logo=80000000'}\n",
      "{'cid': 861209674, 'page': 12, 'part': 'YAML语法', 'duration': 168, 'dimension': {'width': 1920, 'height': 1080, 'rotate': 0}, 'first_frame_url': 'http://i0.hdslb.com/bfs/storyff/n221014qn3r356b7cqe3j59fa48as7tf_firsti.jpg', 'download_url': 'https://upos-sz-mirrorali.bilivideo.com/upgcxcode/74/96/861209674/861209674-1-16.mp4?e=ig8euxZM2rNcNbRVhwdVhwdlhWdVhwdVhoNvNC8BqJIzNbfq9rVEuxTEnE8L5F6VnEsSTx0vkX8fqJeYTj_lta53NCM=&uipk=5&nbs=1&deadline=1701519743&gen=playurlv2&os=alibv&oi=2043500563&trid=9ef617c7973c44cda51a657d299145e1h&mid=0&platform=html5&upsig=460f7e7cb8d89aebd7999e7cabf54aac&uparams=e,uipk,nbs,deadline,gen,os,oi,trid,mid,platform&bvc=vod&nettype=0&f=h_0_0&bw=24409&logo=80000000'}\n",
      "{'cid': 862156325, 'page': 13, 'part': '声明式对象配置', 'duration': 256, 'dimension': {'width': 1920, 'height': 1080, 'rotate': 0}, 'first_frame_url': 'http://i1.hdslb.com/bfs/storyff/n221015qn1iariu782t7ob3d64t7vfgc_firsti.jpg', 'download_url': 'https://upos-sz-mirrorctos.bilivideo.com/upgcxcode/25/63/862156325/862156325-1-16.mp4?e=ig8euxZM2rNcNbRVhwdVhwdlhWdVhwdVhoNvNC8BqJIzNbfq9rVEuxTEnE8L5F6VnEsSTx0vkX8fqJeYTj_lta53NCM=&uipk=5&nbs=1&deadline=1701519746&gen=playurlv2&os=ctosbv&oi=2043500563&trid=15463e653af64d0b80cca23833a0cd0ch&mid=0&platform=html5&upsig=05a4bac0e8e4a33fa425ad157c4d4a9d&uparams=e,uipk,nbs,deadline,gen,os,oi,trid,mid,platform&bvc=vod&nettype=0&f=h_0_0&bw=34880&logo=80000000'}\n",
      "{'cid': 862294714, 'page': 14, 'part': '容器运行时接口(CRI)与镜像导入导出', 'duration': 210, 'dimension': {'width': 1920, 'height': 1080, 'rotate': 0}, 'first_frame_url': 'http://i1.hdslb.com/bfs/storyff/n221015qn3eidya3hx2z2v3ob4ffkn8l_firsti.jpg', 'download_url': 'https://upos-sz-mirrorali.bilivideo.com/upgcxcode/14/47/862294714/862294714-1-16.mp4?e=ig8euxZM2rNcNbRVhwdVhwdlhWdVhwdVhoNvNC8BqJIzNbfq9rVEuxTEnE8L5F6VnEsSTx0vkX8fqJeYTj_lta53NCM=&uipk=5&nbs=1&deadline=1701519750&gen=playurlv2&os=alibv&oi=2043500563&trid=7d722b69ff3640498926e346354449d2h&mid=0&platform=html5&upsig=736a9adaaa7f5671574cfd4e3e273246&uparams=e,uipk,nbs,deadline,gen,os,oi,trid,mid,platform&bvc=vod&nettype=0&f=h_0_0&bw=51114&logo=80000000'}\n",
      "{'cid': 864296440, 'page': 15, 'part': '金丝雀部署(灰度发布)', 'duration': 318, 'dimension': {'width': 1920, 'height': 1080, 'rotate': 0}, 'first_frame_url': 'http://i0.hdslb.com/bfs/storyff/n221017qn1w7ykhk3ttb8l3vwfu9bft3_firsti.jpg', 'download_url': 'https://upos-sz-mirrorali.bilivideo.com/upgcxcode/40/64/864296440/864296440-1-16.mp4?e=ig8euxZM2rNcNbRVhwdVhwdlhWdVhwdVhoNvNC8BqJIzNbfq9rVEuxTEnE8L5F6VnEsSTx0vkX8fqJeYTj_lta53NCM=&uipk=5&nbs=1&deadline=1701519754&gen=playurlv2&os=alibv&oi=2043500563&trid=866c3a0ccf6a4d4fb4b48056ad789b4ch&mid=0&platform=html5&upsig=823bf463debdffe704514cc1a100bbd2&uparams=e,uipk,nbs,deadline,gen,os,oi,trid,mid,platform&bvc=vod&nettype=0&f=h_0_0&bw=59737&logo=80000000'}\n",
      "{'cid': 875412460, 'page': 16, 'part': '运行有状态应用', 'duration': 49, 'dimension': {'width': 1920, 'height': 1080, 'rotate': 0}, 'first_frame_url': 'http://i0.hdslb.com/bfs/storyff/n221029qn1nefko90jeawwrz0yt9a63b_firsti.jpg', 'download_url': 'https://upos-sz-mirror08c.bilivideo.com/upgcxcode/60/24/875412460/875412460-1-16.mp4?e=ig8euxZM2rNcNbRVhwdVhwdlhWdVhwdVhoNvNC8BqJIzNbfq9rVEuxTEnE8L5F6VnEsSTx0vkX8fqJeYTj_lta53NCM=&uipk=5&nbs=1&deadline=1701519757&gen=playurlv2&os=08cbv&oi=2043500563&trid=0bb55bf3f35b41a8b8cd187572a59f9bh&mid=0&platform=html5&upsig=eebadec21f13d103c89e84c772cec465&uparams=e,uipk,nbs,deadline,gen,os,oi,trid,mid,platform&bvc=vod&nettype=0&f=h_0_0&bw=23009&logo=80000000'}\n",
      "{'cid': 875413113, 'page': 17, 'part': '创建mysql数据库', 'duration': 138, 'dimension': {'width': 1920, 'height': 1080, 'rotate': 0}, 'first_frame_url': 'http://i2.hdslb.com/bfs/storyff/n221029qn3lr7q3oqm677f2g6lgbwppe_firsti.jpg', 'download_url': 'https://upos-sz-mirrorcos.bilivideo.com/upgcxcode/13/31/875413113/875413113-1-16.mp4?e=ig8euxZM2rNcNbRVhwdVhwdlhWdVhwdVhoNvNC8BqJIzNbfq9rVEuxTEnE8L5F6VnEsSTx0vkX8fqJeYTj_lta53NCM=&uipk=5&nbs=1&deadline=1701519761&gen=playurlv2&os=cosbv&oi=2043500563&trid=9c67ed1aa5a446219ca3bba4cb9383d2h&mid=0&platform=html5&upsig=a88643c04609d15420ac11fa9391d75b&uparams=e,uipk,nbs,deadline,gen,os,oi,trid,mid,platform&bvc=vod&nettype=0&f=h_0_0&bw=47534&logo=80000000'}\n",
      "{'cid': 875413649, 'page': 18, 'part': 'ConfigMap', 'duration': 163, 'dimension': {'width': 1920, 'height': 1080, 'rotate': 0}, 'first_frame_url': 'http://i0.hdslb.com/bfs/storyff/n221029qn2mfc4jtf3rk17f5e4cqbl3c_firsti.jpg', 'download_url': 'https://upos-sz-mirror08c.bilivideo.com/upgcxcode/49/36/875413649/875413649-1-16.mp4?e=ig8euxZM2rNcNbRVhwdVhwdlhWdVhwdVhoNvNC8BqJIzNbfq9rVEuxTEnE8L5F6VnEsSTx0vkX8fqJeYTj_lta53NCM=&uipk=5&nbs=1&deadline=1701519765&gen=playurlv2&os=08cbv&oi=2043500563&trid=d8f546ba82da4794906cd6065de7be2eh&mid=0&platform=html5&upsig=8eafa5dca79e9326b20b8d52b6a55ce4&uparams=e,uipk,nbs,deadline,gen,os,oi,trid,mid,platform&bvc=vod&nettype=0&f=h_0_0&bw=46157&logo=80000000'}\n",
      "{'cid': 875414056, 'page': 19, 'part': 'Secret', 'duration': 96, 'dimension': {'width': 1920, 'height': 1080, 'rotate': 0}, 'first_frame_url': 'http://i2.hdslb.com/bfs/storyff/n221029qn21mrs1ovicfydzjm9v2s3o3_firsti.jpg', 'download_url': 'https://upos-sz-mirrorali.bilivideo.com/upgcxcode/56/40/875414056/875414056_nb3-1-16.mp4?e=ig8euxZM2rNcNbRVhwdVhwdlhWdVhwdVhoNvNC8BqJIzNbfq9rVEuxTEnE8L5F6VnEsSTx0vkX8fqJeYTj_lta53NCM=&uipk=5&nbs=1&deadline=1701519768&gen=playurlv2&os=alibv&oi=2043500563&trid=9dca64d67a00400a829eaf671aad11d6h&mid=0&platform=html5&upsig=1830526c2d282d8fda77e8c5ad87cc19&uparams=e,uipk,nbs,deadline,gen,os,oi,trid,mid,platform&bvc=vod&nettype=0&f=h_0_0&bw=13679&logo=80000000'}\n",
      "{'cid': 875414348, 'page': 20, 'part': '卷(Volume)', 'duration': 117, 'dimension': {'width': 1920, 'height': 1080, 'rotate': 0}, 'first_frame_url': 'http://i0.hdslb.com/bfs/storyff/n221029qncxqfe9ocp19f26hxpsnvdou_firsti.jpg', 'download_url': 'https://upos-sz-mirrorali.bilivideo.com/upgcxcode/48/43/875414348/875414348-1-16.mp4?e=ig8euxZM2rNcNbRVhwdVhwdlhWdVhwdVhoNvNC8BqJIzNbfq9rVEuxTEnE8L5F6VnEsSTx0vkX8fqJeYTj_lta53NCM=&uipk=5&nbs=1&deadline=1701519772&gen=playurlv2&os=alibv&oi=2043500563&trid=77942797425848a0937a14c8432c95ddh&mid=0&platform=html5&upsig=7dd654e3b1a4e664369526bd9a9b3ced&uparams=e,uipk,nbs,deadline,gen,os,oi,trid,mid,platform&bvc=vod&nettype=0&f=h_0_0&bw=26252&logo=80000000'}\n",
      "{'cid': 875414765, 'page': 21, 'part': '临时卷(EV)', 'duration': 131, 'dimension': {'width': 1920, 'height': 1080, 'rotate': 0}, 'first_frame_url': 'http://i1.hdslb.com/bfs/storyff/n221029qnhcjkfpj4gekz1l8ply9z44f_firsti.jpg', 'download_url': 'https://upos-sz-mirror08c.bilivideo.com/upgcxcode/65/47/875414765/875414765-1-16.mp4?e=ig8euxZM2rNcNbRVhwdVhwdlhWdVhwdVhoNvNC8BqJIzNbfq9rVEuxTEnE8L5F6VnEsSTx0vkX8fqJeYTj_lta53NCM=&uipk=5&nbs=1&deadline=1701519776&gen=playurlv2&os=08cbv&oi=2043500563&trid=91112de5f2dc4adbbd7db45087500383h&mid=0&platform=html5&upsig=5ed36db2df9d27cdf4ecf9286196304b&uparams=e,uipk,nbs,deadline,gen,os,oi,trid,mid,platform&bvc=vod&nettype=0&f=h_0_0&bw=41873&logo=80000000'}\n",
      "{'cid': 875415149, 'page': 22, 'part': '持久卷和持久卷声明(PV&PVC)', 'duration': 134, 'dimension': {'width': 1920, 'height': 1080, 'rotate': 0}, 'first_frame_url': 'http://i1.hdslb.com/bfs/storyff/n221029qno561jj006c0z3g5f0j3bbwr_firsti.jpg', 'download_url': 'https://upos-sz-mirrorali.bilivideo.com/upgcxcode/49/51/875415149/875415149-1-16.mp4?e=ig8euxZM2rNcNbRVhwdVhwdlhWdVhwdVhoNvNC8BqJIzNbfq9rVEuxTEnE8L5F6VnEsSTx0vkX8fqJeYTj_lta53NCM=&uipk=5&nbs=1&deadline=1701519780&gen=playurlv2&os=alibv&oi=2043500563&trid=eb069a7a2de8448e8c05569e42aa1bd4h&mid=0&platform=html5&upsig=54123509bcdd28094190bdacbf1f4807&uparams=e,uipk,nbs,deadline,gen,os,oi,trid,mid,platform&bvc=vod&nettype=0&f=h_0_0&bw=24894&logo=80000000'}\n",
      "{'cid': 875415642, 'page': 23, 'part': '使用持久卷和声明', 'duration': 247, 'dimension': {'width': 1920, 'height': 1080, 'rotate': 0}, 'first_frame_url': 'http://i2.hdslb.com/bfs/storyff/n221029qn36yhbu1zr2js7tct3i3y5s5_firsti.jpg', 'download_url': 'https://upos-sz-mirrorali.bilivideo.com/upgcxcode/42/56/875415642/875415642-1-16.mp4?e=ig8euxZM2rNcNbRVhwdVhwdlhWdVhwdVhoNvNC8BqJIzNbfq9rVEuxTEnE8L5F6VnEsSTx0vkX8fqJeYTj_lta53NCM=&uipk=5&nbs=1&deadline=1701519783&gen=playurlv2&os=alibv&oi=2043500563&trid=37dc331f927949b3b2dd13bbc2691065h&mid=0&platform=html5&upsig=5a3625d771467ac9873c7ce9bc3060c7&uparams=e,uipk,nbs,deadline,gen,os,oi,trid,mid,platform&bvc=vod&nettype=0&f=h_0_0&bw=44108&logo=80000000'}\n",
      "{'cid': 875416069, 'page': 24, 'part': '卷的状态和绑定模式', 'duration': 109, 'dimension': {'width': 1920, 'height': 1080, 'rotate': 0}, 'first_frame_url': 'http://i0.hdslb.com/bfs/storyff/n221029qn3iwkfsrkvv3wz22kxbbbybl_firsti.jpg', 'download_url': 'https://upos-sz-mirror08c.bilivideo.com/upgcxcode/69/60/875416069/875416069-1-16.mp4?e=ig8euxZM2rNcNbRVhwdVhwdlhWdVhwdVhoNvNC8BqJIzNbfq9rVEuxTEnE8L5F6VnEsSTx0vkX8fqJeYTj_lta53NCM=&uipk=5&nbs=1&deadline=1701519787&gen=playurlv2&os=08cbv&oi=2043500563&trid=eb58c7551cd34ab1bde42849ebf92ab3h&mid=0&platform=html5&upsig=3dae8db0ab40d5a91d10d8940e52ae3d&uparams=e,uipk,nbs,deadline,gen,os,oi,trid,mid,platform&bvc=vod&nettype=0&f=h_0_0&bw=28415&logo=80000000'}\n",
      "{'cid': 875416632, 'page': 25, 'part': '存储类(StorageClass)', 'duration': 213, 'dimension': {'width': 1920, 'height': 1080, 'rotate': 0}, 'first_frame_url': 'http://i1.hdslb.com/bfs/storyff/n221029qn1jkrm313w4wv133ydsylkuw_firsti.jpg', 'download_url': 'https://upos-sz-mirrorali.bilivideo.com/upgcxcode/32/66/875416632/875416632-1-16.mp4?e=ig8euxZM2rNcNbRVhwdVhwdlhWdVhwdVhoNvNC8BqJIzNbfq9rVEuxTEnE8L5F6VnEsSTx0vkX8fqJeYTj_lta53NCM=&uipk=5&nbs=1&deadline=1701519790&gen=playurlv2&os=alibv&oi=2043500563&trid=bee41dd651c34f9db38a85b60d743e90h&mid=0&platform=html5&upsig=d490ffaabfa330475569777ee5e8a2b7&uparams=e,uipk,nbs,deadline,gen,os,oi,trid,mid,platform&bvc=vod&nettype=0&f=h_0_0&bw=37769&logo=80000000'}\n",
      "{'cid': 875417123, 'page': 26, 'part': '有状态应用集(StatefulSet)', 'duration': 140, 'dimension': {'width': 1920, 'height': 1080, 'rotate': 0}, 'first_frame_url': 'http://i2.hdslb.com/bfs/storyff/n221029qn1zutw50fblmvt1j6um97j13_firsti.jpg', 'download_url': 'https://upos-sz-mirror08c.bilivideo.com/upgcxcode/23/71/875417123/875417123-1-16.mp4?e=ig8euxZM2rNcNbRVhwdVhwdlhWdVhwdVhoNvNC8BqJIzNbfq9rVEuxTEnE8L5F6VnEsSTx0vkX8fqJeYTj_lta53NCM=&uipk=5&nbs=1&deadline=1701519794&gen=playurlv2&os=08cbv&oi=2043500563&trid=6c50a82bc177499586cc00425440429eh&mid=0&platform=html5&upsig=e59fe7c33102d3099e4496aa791ac73a&uparams=e,uipk,nbs,deadline,gen,os,oi,trid,mid,platform&bvc=vod&nettype=0&f=h_0_0&bw=48789&logo=80000000'}\n",
      "{'cid': 875417701, 'page': 27, 'part': '无头服务(Headless Service)', 'duration': 143, 'dimension': {'width': 1920, 'height': 1080, 'rotate': 0}, 'first_frame_url': 'http://i0.hdslb.com/bfs/storyff/n221029qn5b98cmrpgj643rdrq28jy2z_firsti.jpg', 'download_url': 'https://upos-sz-mirror08c.bilivideo.com/upgcxcode/01/77/875417701/875417701-1-16.mp4?e=ig8euxZM2rNcNbRVhwdVhwdlhWdVhwdVhoNvNC8BqJIzNbfq9rVEuxTEnE8L5F6VnEsSTx0vkX8fqJeYTj_lta53NCM=&uipk=5&nbs=1&deadline=1701519798&gen=playurlv2&os=08cbv&oi=2043500563&trid=c6e91fbde8594b9fb80fa664adb5490ah&mid=0&platform=html5&upsig=5b97cc9cbee13fe66eb6c4e8535f6502&uparams=e,uipk,nbs,deadline,gen,os,oi,trid,mid,platform&bvc=vod&nettype=0&f=h_0_0&bw=43569&logo=80000000'}\n",
      "{'cid': 875418034, 'page': 28, 'part': 'MySQL主从复制', 'duration': 229, 'dimension': {'width': 1920, 'height': 1080, 'rotate': 0}, 'first_frame_url': 'http://i2.hdslb.com/bfs/storyff/n221029qn2cpga8uadzenft1i85vn0o9_firsti.jpg', 'download_url': 'https://upos-sz-mirrorcos.bilivideo.com/upgcxcode/34/80/875418034/875418034-1-16.mp4?e=ig8euxZM2rNcNbRVhwdVhwdlhWdVhwdVhoNvNC8BqJIzNbfq9rVEuxTEnE8L5F6VnEsSTx0vkX8fqJeYTj_lta53NCM=&uipk=5&nbs=1&deadline=1701519801&gen=playurlv2&os=cosbv&oi=2043500563&trid=545595d8320e4f5f8c0747b95009d2e8h&mid=0&platform=html5&upsig=057f102006b0e71d235dfdd893a82da3&uparams=e,uipk,nbs,deadline,gen,os,oi,trid,mid,platform&bvc=vod&nettype=0&f=h_0_0&bw=47413&logo=80000000'}\n",
      "{'cid': 875418877, 'page': 29, 'part': '初始化容器和边车(Init containers&sidecar)', 'duration': 214, 'dimension': {'width': 1920, 'height': 1080, 'rotate': 0}, 'first_frame_url': 'http://i1.hdslb.com/bfs/storyff/n221029qn1c272364eouyvdq9zck54r4_firsti.jpg', 'download_url': 'https://upos-sz-mirrorctos.bilivideo.com/upgcxcode/77/88/875418877/875418877-1-16.mp4?e=ig8euxZM2rNcNbRVhwdVhwdlhWdVhwdVhoNvNC8BqJIzNbfq9rVEuxTEnE8L5F6VnEsSTx0vkX8fqJeYTj_lta53NCM=&uipk=5&nbs=1&deadline=1701519805&gen=playurlv2&os=ctosbv&oi=2043500563&trid=4c3d181d44fd416fa6301cd868fda866h&mid=0&platform=html5&upsig=f0b598e83cfc6a7f69154e68e63b5734&uparams=e,uipk,nbs,deadline,gen,os,oi,trid,mid,platform&bvc=vod&nettype=0&f=h_0_0&bw=26739&logo=80000000'}\n",
      "{'cid': 875420243, 'page': 30, 'part': '端口转发(port-forward)', 'duration': 62, 'dimension': {'width': 1920, 'height': 1080, 'rotate': 0}, 'first_frame_url': 'http://i0.hdslb.com/bfs/storyff/n221029qn2591wb17ml1om2c2z6nr3x2_firsti.jpg', 'download_url': 'https://upos-sz-mirrorali.bilivideo.com/upgcxcode/43/02/875420243/875420243-1-16.mp4?e=ig8euxZM2rNcNbRVhwdVhwdlhWdVhwdVhoNvNC8BqJIzNbfq9rVEuxTEnE8L5F6VnEsSTx0vkX8fqJeYTj_lta53NCM=&uipk=5&nbs=1&deadline=1701519809&gen=playurlv2&os=alibv&oi=2043500563&trid=a3274617a2674007800b2c16b516ade7h&mid=0&platform=html5&upsig=093545badc5d70a64f6ef1f80c513bae&uparams=e,uipk,nbs,deadline,gen,os,oi,trid,mid,platform&bvc=vod&nettype=0&f=h_0_0&bw=38424&logo=80000000'}\n",
      "{'cid': 875609591, 'page': 31, 'part': 'Helm的用法', 'duration': 173, 'dimension': {'width': 1920, 'height': 1080, 'rotate': 0}, 'first_frame_url': 'http://i0.hdslb.com/bfs/storyff/n221029qn2ccexv7wt0i5m1y8hxaex7v_firsti.jpg', 'download_url': 'https://upos-sz-mirrorali.bilivideo.com/upgcxcode/91/95/875609591/875609591-1-16.mp4?e=ig8euxZM2rNcNbRVhwdVhwdlhWdVhwdVhoNvNC8BqJIzNbfq9rVEuxTEnE8L5F6VnEsSTx0vkX8fqJeYTj_lta53NCM=&uipk=5&nbs=1&deadline=1701519812&gen=playurlv2&os=alibv&oi=2043500563&trid=cae50cd2cb3c479fa9a4b342b5298386h&mid=0&platform=html5&upsig=b8ae60914570006caf80d0ddd5f1a44f&uparams=e,uipk,nbs,deadline,gen,os,oi,trid,mid,platform&bvc=vod&nettype=0&f=h_0_0&bw=51652&logo=80000000'}\n",
      "{'cid': 875765330, 'page': 32, 'part': 'Helm安装MySQL主从集群', 'duration': 159, 'dimension': {'width': 1920, 'height': 1080, 'rotate': 0}, 'first_frame_url': 'http://i2.hdslb.com/bfs/storyff/n221030qn2nv6t7ize66fp2i3awop6wj_firsti.jpg', 'download_url': 'https://upos-sz-mirrorali.bilivideo.com/upgcxcode/30/53/875765330/875765330-1-16.mp4?e=ig8euxZM2rNcNbRVhwdVhwdlhWdVhwdVhoNvNC8BqJIzNbfq9rVEuxTEnE8L5F6VnEsSTx0vkX8fqJeYTj_lta53NCM=&uipk=5&nbs=1&deadline=1701519816&gen=playurlv2&os=alibv&oi=2043500563&trid=68307d1dd81e43158ccdb510aef051f9h&mid=0&platform=html5&upsig=50abe6065aa9e8286484544e658e5924&uparams=e,uipk,nbs,deadline,gen,os,oi,trid,mid,platform&bvc=vod&nettype=0&f=h_0_0&bw=57778&logo=80000000'}\n"
     ]
    }
   ],
   "source": [
    "for each in video_set.parts:\n",
    "    response = requests.get(\"https://bili.zhouql.vip/download/\" + str(video_set.aid) + \"/\" + str(each.cid), headers = header)\n",
    "    response.encoding = 'utf-8'\n",
    "    j = response.json()\n",
    "    each.download_url = j[\"data\"][\"durl\"][0][\"url\"]\n",
    "    time.sleep(3)\n",
    "    print(each.__dict__)"
   ],
   "metadata": {
    "collapsed": false,
    "ExecuteTime": {
     "end_time": "2023-12-02T10:23:44.162661600Z",
     "start_time": "2023-12-02T10:21:47.366424500Z"
    }
   },
   "id": "8c07dbd4bf607cd9"
  },
  {
   "cell_type": "code",
   "execution_count": 10,
   "outputs": [
    {
     "ename": "ContentDecodingError",
     "evalue": "('Received response with content-encoding: gzip, but failed to decode it.', error('Error -3 while decompressing data: incorrect header check'))",
     "output_type": "error",
     "traceback": [
      "\u001B[1;31m---------------------------------------------------------------------------\u001B[0m",
      "\u001B[1;31merror\u001B[0m                                     Traceback (most recent call last)",
      "File \u001B[1;32m~\\.conda\\envs\\VideoTranscript\\Lib\\site-packages\\urllib3\\response.py:447\u001B[0m, in \u001B[0;36mBaseHTTPResponse._decode\u001B[1;34m(self, data, decode_content, flush_decoder)\u001B[0m\n\u001B[0;32m    446\u001B[0m \u001B[38;5;28;01mif\u001B[39;00m \u001B[38;5;28mself\u001B[39m\u001B[38;5;241m.\u001B[39m_decoder:\n\u001B[1;32m--> 447\u001B[0m     data \u001B[38;5;241m=\u001B[39m \u001B[38;5;28;43mself\u001B[39;49m\u001B[38;5;241;43m.\u001B[39;49m\u001B[43m_decoder\u001B[49m\u001B[38;5;241;43m.\u001B[39;49m\u001B[43mdecompress\u001B[49m\u001B[43m(\u001B[49m\u001B[43mdata\u001B[49m\u001B[43m)\u001B[49m\n\u001B[0;32m    448\u001B[0m     \u001B[38;5;28mself\u001B[39m\u001B[38;5;241m.\u001B[39m_has_decoded_content \u001B[38;5;241m=\u001B[39m \u001B[38;5;28;01mTrue\u001B[39;00m\n",
      "File \u001B[1;32m~\\.conda\\envs\\VideoTranscript\\Lib\\site-packages\\urllib3\\response.py:125\u001B[0m, in \u001B[0;36mGzipDecoder.decompress\u001B[1;34m(self, data)\u001B[0m\n\u001B[0;32m    124\u001B[0m \u001B[38;5;28;01mtry\u001B[39;00m:\n\u001B[1;32m--> 125\u001B[0m     ret \u001B[38;5;241m+\u001B[39m\u001B[38;5;241m=\u001B[39m \u001B[38;5;28;43mself\u001B[39;49m\u001B[38;5;241;43m.\u001B[39;49m\u001B[43m_obj\u001B[49m\u001B[38;5;241;43m.\u001B[39;49m\u001B[43mdecompress\u001B[49m\u001B[43m(\u001B[49m\u001B[43mdata\u001B[49m\u001B[43m)\u001B[49m\n\u001B[0;32m    126\u001B[0m \u001B[38;5;28;01mexcept\u001B[39;00m zlib\u001B[38;5;241m.\u001B[39merror:\n",
      "\u001B[1;31merror\u001B[0m: Error -3 while decompressing data: incorrect header check",
      "\nThe above exception was the direct cause of the following exception:\n",
      "\u001B[1;31mDecodeError\u001B[0m                               Traceback (most recent call last)",
      "File \u001B[1;32m~\\.conda\\envs\\VideoTranscript\\Lib\\site-packages\\requests\\models.py:816\u001B[0m, in \u001B[0;36mResponse.iter_content.<locals>.generate\u001B[1;34m()\u001B[0m\n\u001B[0;32m    815\u001B[0m \u001B[38;5;28;01mtry\u001B[39;00m:\n\u001B[1;32m--> 816\u001B[0m     \u001B[38;5;28;01myield from\u001B[39;00m \u001B[38;5;28mself\u001B[39m\u001B[38;5;241m.\u001B[39mraw\u001B[38;5;241m.\u001B[39mstream(chunk_size, decode_content\u001B[38;5;241m=\u001B[39m\u001B[38;5;28;01mTrue\u001B[39;00m)\n\u001B[0;32m    817\u001B[0m \u001B[38;5;28;01mexcept\u001B[39;00m ProtocolError \u001B[38;5;28;01mas\u001B[39;00m e:\n",
      "File \u001B[1;32m~\\.conda\\envs\\VideoTranscript\\Lib\\site-packages\\urllib3\\response.py:934\u001B[0m, in \u001B[0;36mHTTPResponse.stream\u001B[1;34m(self, amt, decode_content)\u001B[0m\n\u001B[0;32m    933\u001B[0m \u001B[38;5;28;01mwhile\u001B[39;00m \u001B[38;5;129;01mnot\u001B[39;00m is_fp_closed(\u001B[38;5;28mself\u001B[39m\u001B[38;5;241m.\u001B[39m_fp) \u001B[38;5;129;01mor\u001B[39;00m \u001B[38;5;28mlen\u001B[39m(\u001B[38;5;28mself\u001B[39m\u001B[38;5;241m.\u001B[39m_decoded_buffer) \u001B[38;5;241m>\u001B[39m \u001B[38;5;241m0\u001B[39m:\n\u001B[1;32m--> 934\u001B[0m     data \u001B[38;5;241m=\u001B[39m \u001B[38;5;28;43mself\u001B[39;49m\u001B[38;5;241;43m.\u001B[39;49m\u001B[43mread\u001B[49m\u001B[43m(\u001B[49m\u001B[43mamt\u001B[49m\u001B[38;5;241;43m=\u001B[39;49m\u001B[43mamt\u001B[49m\u001B[43m,\u001B[49m\u001B[43m \u001B[49m\u001B[43mdecode_content\u001B[49m\u001B[38;5;241;43m=\u001B[39;49m\u001B[43mdecode_content\u001B[49m\u001B[43m)\u001B[49m\n\u001B[0;32m    936\u001B[0m     \u001B[38;5;28;01mif\u001B[39;00m data:\n",
      "File \u001B[1;32m~\\.conda\\envs\\VideoTranscript\\Lib\\site-packages\\urllib3\\response.py:898\u001B[0m, in \u001B[0;36mHTTPResponse.read\u001B[1;34m(self, amt, decode_content, cache_content)\u001B[0m\n\u001B[0;32m    896\u001B[0m     \u001B[38;5;28;01mreturn\u001B[39;00m data\n\u001B[1;32m--> 898\u001B[0m decoded_data \u001B[38;5;241m=\u001B[39m \u001B[38;5;28;43mself\u001B[39;49m\u001B[38;5;241;43m.\u001B[39;49m\u001B[43m_decode\u001B[49m\u001B[43m(\u001B[49m\u001B[43mdata\u001B[49m\u001B[43m,\u001B[49m\u001B[43m \u001B[49m\u001B[43mdecode_content\u001B[49m\u001B[43m,\u001B[49m\u001B[43m \u001B[49m\u001B[43mflush_decoder\u001B[49m\u001B[43m)\u001B[49m\n\u001B[0;32m    899\u001B[0m \u001B[38;5;28mself\u001B[39m\u001B[38;5;241m.\u001B[39m_decoded_buffer\u001B[38;5;241m.\u001B[39mput(decoded_data)\n",
      "File \u001B[1;32m~\\.conda\\envs\\VideoTranscript\\Lib\\site-packages\\urllib3\\response.py:451\u001B[0m, in \u001B[0;36mBaseHTTPResponse._decode\u001B[1;34m(self, data, decode_content, flush_decoder)\u001B[0m\n\u001B[0;32m    450\u001B[0m     content_encoding \u001B[38;5;241m=\u001B[39m \u001B[38;5;28mself\u001B[39m\u001B[38;5;241m.\u001B[39mheaders\u001B[38;5;241m.\u001B[39mget(\u001B[38;5;124m\"\u001B[39m\u001B[38;5;124mcontent-encoding\u001B[39m\u001B[38;5;124m\"\u001B[39m, \u001B[38;5;124m\"\u001B[39m\u001B[38;5;124m\"\u001B[39m)\u001B[38;5;241m.\u001B[39mlower()\n\u001B[1;32m--> 451\u001B[0m     \u001B[38;5;28;01mraise\u001B[39;00m DecodeError(\n\u001B[0;32m    452\u001B[0m         \u001B[38;5;124m\"\u001B[39m\u001B[38;5;124mReceived response with content-encoding: \u001B[39m\u001B[38;5;132;01m%s\u001B[39;00m\u001B[38;5;124m, but \u001B[39m\u001B[38;5;124m\"\u001B[39m\n\u001B[0;32m    453\u001B[0m         \u001B[38;5;124m\"\u001B[39m\u001B[38;5;124mfailed to decode it.\u001B[39m\u001B[38;5;124m\"\u001B[39m \u001B[38;5;241m%\u001B[39m content_encoding,\n\u001B[0;32m    454\u001B[0m         e,\n\u001B[0;32m    455\u001B[0m     ) \u001B[38;5;28;01mfrom\u001B[39;00m \u001B[38;5;21;01me\u001B[39;00m\n\u001B[0;32m    456\u001B[0m \u001B[38;5;28;01mif\u001B[39;00m flush_decoder:\n",
      "\u001B[1;31mDecodeError\u001B[0m: ('Received response with content-encoding: gzip, but failed to decode it.', error('Error -3 while decompressing data: incorrect header check'))",
      "\nDuring handling of the above exception, another exception occurred:\n",
      "\u001B[1;31mContentDecodingError\u001B[0m                      Traceback (most recent call last)",
      "Cell \u001B[1;32mIn[10], line 1\u001B[0m\n\u001B[1;32m----> 1\u001B[0m \u001B[43mVideoUtils\u001B[49m\u001B[38;5;241;43m.\u001B[39;49m\u001B[43mdownload_videoset\u001B[49m\u001B[43m(\u001B[49m\u001B[43mvideo_set\u001B[49m\u001B[43m)\u001B[49m\n",
      "File \u001B[1;32m~\\OneDrive\\Python\\VideoTranscript\\VideoClass.py:79\u001B[0m, in \u001B[0;36mdownload_videoset\u001B[1;34m(video_set, path)\u001B[0m\n\u001B[0;32m     77\u001B[0m \t\t\t\u001B[38;5;28;01mfor\u001B[39;00m chunk \u001B[38;5;129;01min\u001B[39;00m r\u001B[38;5;241m.\u001B[39miter_content(chunk_size\u001B[38;5;241m=\u001B[39m\u001B[38;5;241m1024\u001B[39m):\n\u001B[0;32m     78\u001B[0m \t\t\t\t\u001B[38;5;28;01mif\u001B[39;00m chunk:\n\u001B[1;32m---> 79\u001B[0m \t\t\t\t\tf\u001B[38;5;241m.\u001B[39mwrite(chunk)\n\u001B[0;32m     80\u001B[0m \u001B[38;5;28;01mreturn\u001B[39;00m \u001B[38;5;28;01mTrue\u001B[39;00m\n\u001B[0;32m     81\u001B[0m \u001B[38;5;129m@staticmethod\u001B[39m\n\u001B[0;32m     82\u001B[0m \u001B[38;5;28;01mdef\u001B[39;00m \u001B[38;5;21mdownload_videopage\u001B[39m(video_page: VideoPage, path: \u001B[38;5;28mstr\u001B[39m \u001B[38;5;241m=\u001B[39m \u001B[38;5;28;01mNone\u001B[39;00m) \u001B[38;5;241m-\u001B[39m\u001B[38;5;241m>\u001B[39m \u001B[38;5;28mbool\u001B[39m:\n",
      "File \u001B[1;32m~\\.conda\\envs\\VideoTranscript\\Lib\\site-packages\\requests\\models.py:820\u001B[0m, in \u001B[0;36mResponse.iter_content.<locals>.generate\u001B[1;34m()\u001B[0m\n\u001B[0;32m    818\u001B[0m     \u001B[38;5;28;01mraise\u001B[39;00m ChunkedEncodingError(e)\n\u001B[0;32m    819\u001B[0m \u001B[38;5;28;01mexcept\u001B[39;00m DecodeError \u001B[38;5;28;01mas\u001B[39;00m e:\n\u001B[1;32m--> 820\u001B[0m     \u001B[38;5;28;01mraise\u001B[39;00m ContentDecodingError(e)\n\u001B[0;32m    821\u001B[0m \u001B[38;5;28;01mexcept\u001B[39;00m ReadTimeoutError \u001B[38;5;28;01mas\u001B[39;00m e:\n\u001B[0;32m    822\u001B[0m     \u001B[38;5;28;01mraise\u001B[39;00m \u001B[38;5;167;01mConnectionError\u001B[39;00m(e)\n",
      "\u001B[1;31mContentDecodingError\u001B[0m: ('Received response with content-encoding: gzip, but failed to decode it.', error('Error -3 while decompressing data: incorrect header check'))"
     ]
    }
   ],
   "source": [
    "VideoUtils.download_videoset(video_set)"
   ],
   "metadata": {
    "collapsed": false,
    "ExecuteTime": {
     "end_time": "2023-12-02T10:23:53.907230800Z",
     "start_time": "2023-12-02T10:23:44.161658800Z"
    }
   },
   "id": "ee00fa65fae462f0"
  },
  {
   "cell_type": "code",
   "execution_count": null,
   "outputs": [],
   "source": [],
   "metadata": {
    "collapsed": false,
    "ExecuteTime": {
     "end_time": "2023-12-02T10:23:53.911731700Z",
     "start_time": "2023-12-02T10:23:53.909731100Z"
    }
   },
   "id": "d57fef3514093c40"
  }
 ],
 "metadata": {
  "kernelspec": {
   "display_name": "Python 3",
   "language": "python",
   "name": "python3"
  },
  "language_info": {
   "codemirror_mode": {
    "name": "ipython",
    "version": 2
   },
   "file_extension": ".py",
   "mimetype": "text/x-python",
   "name": "python",
   "nbconvert_exporter": "python",
   "pygments_lexer": "ipython2",
   "version": "2.7.6"
  }
 },
 "nbformat": 4,
 "nbformat_minor": 5
}
