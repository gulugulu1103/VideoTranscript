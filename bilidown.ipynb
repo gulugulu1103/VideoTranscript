{
 "cells": [
  {
   "cell_type": "code",
   "execution_count": 13,
   "id": "initial_id",
   "metadata": {
    "collapsed": true,
    "ExecuteTime": {
     "end_time": "2023-12-02T08:59:09.161960700Z",
     "start_time": "2023-12-02T08:59:09.156613100Z"
    }
   },
   "outputs": [],
   "source": [
    "import requests\n",
    "import dotenv\n",
    "import VideoClass\n",
    "\n",
    "BV = \"BV1k24y197KC\"\n",
    "bili_key = dotenv.get_key(\".env\", \"BILI_KEY\")\n",
    "header = {\n",
    "    \"User-Agent\": \"Mozilla/5.0 (Windows NT 10.0; Win64; x64) AppleWebKit/537.36 (KHTML, like Gecko) Chrome/121.0.0.0 Safari/537.36 Edg/121.0.0.0\",\n",
    "    \"Accept\": \"application/json, text/plain, */*\",\n",
    "    \"Accept-Encoding\": \"gzip, deflate, br\",\n",
    "    \"Accept-Language\": \"zh-CN,zh;q=0.9,en;q=0.8,en-GB;q=0.7,en-US;q=0.6,ko;q=0.5\",\n",
    "}\n"
   ]
  },
  {
   "cell_type": "code",
   "execution_count": 14,
   "outputs": [
    {
     "data": {
      "text/plain": "{'code': 0,\n 'message': '0',\n 'ttl': 1,\n 'data': {'bvid': 'BV1k24y197KC',\n  'aid': 688879425,\n  'videos': 32,\n  'tid': 231,\n  'tname': '计算机技术',\n  'copyright': 1,\n  'pic': 'http://i2.hdslb.com/bfs/archive/a0f11a138432271d0ce40b9c6a96d577d25acf43.jpg',\n  'title': 'Kubernetes入门90分钟精讲(合集)—可能是B站最简单的K8S教程',\n  'pubdate': 1665808200,\n  'ctime': 1665300987,\n  'desc': '课件地址：https://www.yuque.com/wukong-zorrm/qdoy5p',\n  'desc_v2': [{'raw_text': '课件地址：https://www.yuque.com/wukong-zorrm/qdoy5p',\n    'type': 1,\n    'biz_id': 0}],\n  'state': 0,\n  'duration': 5441,\n  'rights': {'bp': 0,\n   'elec': 0,\n   'download': 1,\n   'movie': 0,\n   'pay': 0,\n   'hd5': 0,\n   'no_reprint': 1,\n   'autoplay': 1,\n   'ugc_pay': 0,\n   'is_cooperation': 0,\n   'ugc_pay_preview': 0,\n   'no_background': 0,\n   'clean_mode': 0,\n   'is_stein_gate': 0,\n   'is_360': 0,\n   'no_share': 0,\n   'arc_pay': 0,\n   'free_watch': 0},\n  'owner': {'mid': 356591580,\n   'name': '一小时技术精讲',\n   'face': 'https://i0.hdslb.com/bfs/face/cbf97bddf076c45bbe5ea7e463281700d8a6326e.jpg'},\n  'stat': {'aid': 688879425,\n   'view': 60440,\n   'danmaku': 136,\n   'reply': 234,\n   'favorite': 4143,\n   'coin': 1259,\n   'share': 297,\n   'now_rank': 0,\n   'his_rank': 0,\n   'like': 1311,\n   'dislike': 0,\n   'evaluation': '',\n   'argue_msg': '',\n   'vt': 0},\n  'dynamic': '可能是B站最简单的K8s入门教程！',\n  'cid': 883837831,\n  'dimension': {'width': 1920, 'height': 1080, 'rotate': 0},\n  'premiere': None,\n  'teenage_mode': 0,\n  'is_chargeable_season': False,\n  'is_story': False,\n  'is_upower_exclusive': False,\n  'is_upower_play': False,\n  'enable_vt': 0,\n  'vt_display': '',\n  'no_cache': False,\n  'pages': [{'cid': 883837831,\n    'page': 1,\n    'from': 'vupload',\n    'part': '课程导读',\n    'duration': 71,\n    'vid': '',\n    'weblink': '',\n    'dimension': {'width': 1920, 'height': 1080, 'rotate': 0},\n    'first_frame': 'http://i1.hdslb.com/bfs/storyff/n221107qn1yscu5oakmrbg39acuv20cs_firsti.jpg'},\n   {'cid': 856795535,\n    'page': 2,\n    'from': 'vupload',\n    'part': '课程目录',\n    'duration': 28,\n    'vid': '',\n    'weblink': '',\n    'dimension': {'width': 1920, 'height': 1080, 'rotate': 0},\n    'first_frame': 'http://i0.hdslb.com/bfs/storyff/n2210090830jc73ogktusa195l625g0k_firsti.jpg'},\n   {'cid': 856795622,\n    'page': 3,\n    'from': 'vupload',\n    'part': 'kubernetes简介',\n    'duration': 184,\n    'vid': '',\n    'weblink': '',\n    'dimension': {'width': 1920, 'height': 1080, 'rotate': 0},\n    'first_frame': 'http://i0.hdslb.com/bfs/storyff/n221009142rymeabe6jshhhxiqf2azzh_firsti.jpg'},\n   {'cid': 856795680,\n    'page': 4,\n    'from': 'vupload',\n    'part': 'kubernetes架构',\n    'duration': 176,\n    'vid': '',\n    'weblink': '',\n    'dimension': {'width': 1920, 'height': 1080, 'rotate': 0},\n    'first_frame': 'http://i1.hdslb.com/bfs/storyff/n221009083834wdl9a8ibv1w7mzpktoe_firsti.jpg'},\n   {'cid': 856798978,\n    'page': 5,\n    'from': 'vupload',\n    'part': '安装minikube',\n    'duration': 210,\n    'vid': '',\n    'weblink': '',\n    'dimension': {'width': 1920, 'height': 1080, 'rotate': 0},\n    'first_frame': 'http://i2.hdslb.com/bfs/storyff/n221009062x0lw8vx5xqib110t25gd95_firsti.jpg'},\n   {'cid': 856802334,\n    'page': 6,\n    'from': 'vupload',\n    'part': '安装k3s集群',\n    'duration': 220,\n    'vid': '',\n    'weblink': '',\n    'dimension': {'width': 1920, 'height': 1080, 'rotate': 0},\n    'first_frame': 'http://i2.hdslb.com/bfs/storyff/n221009152s2t439yijms22wpgo8g31p_firsti.jpg'},\n   {'cid': 857885419,\n    'page': 7,\n    'from': 'vupload',\n    'part': 'containerd镜像加速',\n    'duration': 79,\n    'vid': '',\n    'weblink': '',\n    'dimension': {'width': 1920, 'height': 1080, 'rotate': 0},\n    'first_frame': 'http://i0.hdslb.com/bfs/storyff/n221010qn2pzs3hl97y6um3j1bxk0a1m_firsti.jpg'},\n   {'cid': 857884887,\n    'page': 8,\n    'from': 'vupload',\n    'part': 'Pod容器集',\n    'duration': 166,\n    'vid': '',\n    'weblink': '',\n    'dimension': {'width': 1920, 'height': 1080, 'rotate': 0},\n    'first_frame': 'http://i2.hdslb.com/bfs/storyff/n221010qn1wv8n4csor0vo2k68rrxpek_firsti.jpg'},\n   {'cid': 859303274,\n    'page': 9,\n    'from': 'vupload',\n    'part': 'Deployment部署&ReplicaSet副本集',\n    'duration': 368,\n    'vid': '',\n    'weblink': '',\n    'dimension': {'width': 1920, 'height': 1080, 'rotate': 0},\n    'first_frame': 'http://i1.hdslb.com/bfs/storyff/n221012qn3ly7lj4dq11e332d6z9xyuz_firsti.jpg'},\n   {'cid': 859753399,\n    'page': 10,\n    'from': 'vupload',\n    'part': 'Service服务',\n    'duration': 287,\n    'vid': '',\n    'weblink': '',\n    'dimension': {'width': 1920, 'height': 1080, 'rotate': 0},\n    'first_frame': 'http://i0.hdslb.com/bfs/storyff/n221012a22fd7nirdk93w41667min9zt_firsti.jpg'},\n   {'cid': 862402960,\n    'page': 11,\n    'from': 'vupload',\n    'part': 'Namespace命名空间',\n    'duration': 183,\n    'vid': '',\n    'weblink': '',\n    'dimension': {'width': 1920, 'height': 1080, 'rotate': 0},\n    'first_frame': 'http://i2.hdslb.com/bfs/storyff/n221015qnebb2wzpkvgv21btidm6uxwz_firsti.jpg'},\n   {'cid': 861209674,\n    'page': 12,\n    'from': 'vupload',\n    'part': 'YAML语法',\n    'duration': 168,\n    'vid': '',\n    'weblink': '',\n    'dimension': {'width': 1920, 'height': 1080, 'rotate': 0},\n    'first_frame': 'http://i0.hdslb.com/bfs/storyff/n221014qn3r356b7cqe3j59fa48as7tf_firsti.jpg'},\n   {'cid': 862156325,\n    'page': 13,\n    'from': 'vupload',\n    'part': '声明式对象配置',\n    'duration': 256,\n    'vid': '',\n    'weblink': '',\n    'dimension': {'width': 1920, 'height': 1080, 'rotate': 0},\n    'first_frame': 'http://i1.hdslb.com/bfs/storyff/n221015qn1iariu782t7ob3d64t7vfgc_firsti.jpg'},\n   {'cid': 862294714,\n    'page': 14,\n    'from': 'vupload',\n    'part': '容器运行时接口(CRI)与镜像导入导出',\n    'duration': 210,\n    'vid': '',\n    'weblink': '',\n    'dimension': {'width': 1920, 'height': 1080, 'rotate': 0},\n    'first_frame': 'http://i1.hdslb.com/bfs/storyff/n221015qn3eidya3hx2z2v3ob4ffkn8l_firsti.jpg'},\n   {'cid': 864296440,\n    'page': 15,\n    'from': 'vupload',\n    'part': '金丝雀部署(灰度发布)',\n    'duration': 318,\n    'vid': '',\n    'weblink': '',\n    'dimension': {'width': 1920, 'height': 1080, 'rotate': 0},\n    'first_frame': 'http://i0.hdslb.com/bfs/storyff/n221017qn1w7ykhk3ttb8l3vwfu9bft3_firsti.jpg'},\n   {'cid': 875412460,\n    'page': 16,\n    'from': 'vupload',\n    'part': '运行有状态应用',\n    'duration': 49,\n    'vid': '',\n    'weblink': '',\n    'dimension': {'width': 1920, 'height': 1080, 'rotate': 0},\n    'first_frame': 'http://i0.hdslb.com/bfs/storyff/n221029qn1nefko90jeawwrz0yt9a63b_firsti.jpg'},\n   {'cid': 875413113,\n    'page': 17,\n    'from': 'vupload',\n    'part': '创建mysql数据库',\n    'duration': 138,\n    'vid': '',\n    'weblink': '',\n    'dimension': {'width': 1920, 'height': 1080, 'rotate': 0},\n    'first_frame': 'http://i2.hdslb.com/bfs/storyff/n221029qn3lr7q3oqm677f2g6lgbwppe_firsti.jpg'},\n   {'cid': 875413649,\n    'page': 18,\n    'from': 'vupload',\n    'part': 'ConfigMap',\n    'duration': 163,\n    'vid': '',\n    'weblink': '',\n    'dimension': {'width': 1920, 'height': 1080, 'rotate': 0},\n    'first_frame': 'http://i0.hdslb.com/bfs/storyff/n221029qn2mfc4jtf3rk17f5e4cqbl3c_firsti.jpg'},\n   {'cid': 875414056,\n    'page': 19,\n    'from': 'vupload',\n    'part': 'Secret',\n    'duration': 96,\n    'vid': '',\n    'weblink': '',\n    'dimension': {'width': 1920, 'height': 1080, 'rotate': 0},\n    'first_frame': 'http://i2.hdslb.com/bfs/storyff/n221029qn21mrs1ovicfydzjm9v2s3o3_firsti.jpg'},\n   {'cid': 875414348,\n    'page': 20,\n    'from': 'vupload',\n    'part': '卷(Volume)',\n    'duration': 117,\n    'vid': '',\n    'weblink': '',\n    'dimension': {'width': 1920, 'height': 1080, 'rotate': 0},\n    'first_frame': 'http://i0.hdslb.com/bfs/storyff/n221029qncxqfe9ocp19f26hxpsnvdou_firsti.jpg'},\n   {'cid': 875414765,\n    'page': 21,\n    'from': 'vupload',\n    'part': '临时卷(EV)',\n    'duration': 131,\n    'vid': '',\n    'weblink': '',\n    'dimension': {'width': 1920, 'height': 1080, 'rotate': 0},\n    'first_frame': 'http://i1.hdslb.com/bfs/storyff/n221029qnhcjkfpj4gekz1l8ply9z44f_firsti.jpg'},\n   {'cid': 875415149,\n    'page': 22,\n    'from': 'vupload',\n    'part': '持久卷和持久卷声明(PV&PVC)',\n    'duration': 134,\n    'vid': '',\n    'weblink': '',\n    'dimension': {'width': 1920, 'height': 1080, 'rotate': 0},\n    'first_frame': 'http://i1.hdslb.com/bfs/storyff/n221029qno561jj006c0z3g5f0j3bbwr_firsti.jpg'},\n   {'cid': 875415642,\n    'page': 23,\n    'from': 'vupload',\n    'part': '使用持久卷和声明',\n    'duration': 247,\n    'vid': '',\n    'weblink': '',\n    'dimension': {'width': 1920, 'height': 1080, 'rotate': 0},\n    'first_frame': 'http://i2.hdslb.com/bfs/storyff/n221029qn36yhbu1zr2js7tct3i3y5s5_firsti.jpg'},\n   {'cid': 875416069,\n    'page': 24,\n    'from': 'vupload',\n    'part': '卷的状态和绑定模式',\n    'duration': 109,\n    'vid': '',\n    'weblink': '',\n    'dimension': {'width': 1920, 'height': 1080, 'rotate': 0},\n    'first_frame': 'http://i0.hdslb.com/bfs/storyff/n221029qn3iwkfsrkvv3wz22kxbbbybl_firsti.jpg'},\n   {'cid': 875416632,\n    'page': 25,\n    'from': 'vupload',\n    'part': '存储类(StorageClass)',\n    'duration': 213,\n    'vid': '',\n    'weblink': '',\n    'dimension': {'width': 1920, 'height': 1080, 'rotate': 0},\n    'first_frame': 'http://i1.hdslb.com/bfs/storyff/n221029qn1jkrm313w4wv133ydsylkuw_firsti.jpg'},\n   {'cid': 875417123,\n    'page': 26,\n    'from': 'vupload',\n    'part': '有状态应用集(StatefulSet)',\n    'duration': 140,\n    'vid': '',\n    'weblink': '',\n    'dimension': {'width': 1920, 'height': 1080, 'rotate': 0},\n    'first_frame': 'http://i2.hdslb.com/bfs/storyff/n221029qn1zutw50fblmvt1j6um97j13_firsti.jpg'},\n   {'cid': 875417701,\n    'page': 27,\n    'from': 'vupload',\n    'part': '无头服务(Headless Service)',\n    'duration': 143,\n    'vid': '',\n    'weblink': '',\n    'dimension': {'width': 1920, 'height': 1080, 'rotate': 0},\n    'first_frame': 'http://i0.hdslb.com/bfs/storyff/n221029qn5b98cmrpgj643rdrq28jy2z_firsti.jpg'},\n   {'cid': 875418034,\n    'page': 28,\n    'from': 'vupload',\n    'part': 'MySQL主从复制',\n    'duration': 229,\n    'vid': '',\n    'weblink': '',\n    'dimension': {'width': 1920, 'height': 1080, 'rotate': 0},\n    'first_frame': 'http://i2.hdslb.com/bfs/storyff/n221029qn2cpga8uadzenft1i85vn0o9_firsti.jpg'},\n   {'cid': 875418877,\n    'page': 29,\n    'from': 'vupload',\n    'part': '初始化容器和边车(Init containers&sidecar)',\n    'duration': 214,\n    'vid': '',\n    'weblink': '',\n    'dimension': {'width': 1920, 'height': 1080, 'rotate': 0},\n    'first_frame': 'http://i1.hdslb.com/bfs/storyff/n221029qn1c272364eouyvdq9zck54r4_firsti.jpg'},\n   {'cid': 875420243,\n    'page': 30,\n    'from': 'vupload',\n    'part': '端口转发(port-forward)',\n    'duration': 62,\n    'vid': '',\n    'weblink': '',\n    'dimension': {'width': 1920, 'height': 1080, 'rotate': 0},\n    'first_frame': 'http://i0.hdslb.com/bfs/storyff/n221029qn2591wb17ml1om2c2z6nr3x2_firsti.jpg'},\n   {'cid': 875609591,\n    'page': 31,\n    'from': 'vupload',\n    'part': 'Helm的用法',\n    'duration': 173,\n    'vid': '',\n    'weblink': '',\n    'dimension': {'width': 1920, 'height': 1080, 'rotate': 0},\n    'first_frame': 'http://i0.hdslb.com/bfs/storyff/n221029qn2ccexv7wt0i5m1y8hxaex7v_firsti.jpg'},\n   {'cid': 875765330,\n    'page': 32,\n    'from': 'vupload',\n    'part': 'Helm安装MySQL主从集群',\n    'duration': 159,\n    'vid': '',\n    'weblink': '',\n    'dimension': {'width': 1920, 'height': 1080, 'rotate': 0},\n    'first_frame': 'http://i2.hdslb.com/bfs/storyff/n221030qn2nv6t7ize66fp2i3awop6wj_firsti.jpg'}],\n  'subtitle': {'allow_submit': False, 'list': []},\n  'is_season_display': False,\n  'user_garb': {'url_image_ani_cut': ''},\n  'honor_reply': {},\n  'like_icon': '',\n  'need_jump_bv': False,\n  'disable_show_up_info': False}}"
     },
     "execution_count": 14,
     "metadata": {},
     "output_type": "execute_result"
    }
   ],
   "source": [
    "response = requests.get(\"https://bili.zhouql.vip/meta/\" + BV, headers = header)\n",
    "response.encoding = 'utf-8'\n",
    "j = response.json()\n",
    "j"
   ],
   "metadata": {
    "collapsed": false,
    "ExecuteTime": {
     "end_time": "2023-12-02T08:59:09.960089600Z",
     "start_time": "2023-12-02T08:59:09.164461600Z"
    }
   },
   "id": "166227ec344f6d25"
  },
  {
   "cell_type": "code",
   "execution_count": 15,
   "outputs": [
    {
     "ename": "NameError",
     "evalue": "name 'VideoClass' is not defined",
     "output_type": "error",
     "traceback": [
      "\u001B[1;31m---------------------------------------------------------------------------\u001B[0m",
      "\u001B[1;31mNameError\u001B[0m                                 Traceback (most recent call last)",
      "Cell \u001B[1;32mIn[15], line 1\u001B[0m\n\u001B[1;32m----> 1\u001B[0m \u001B[43mVideoClass\u001B[49m\u001B[38;5;241m.\u001B[39mVideo(response\u001B[38;5;241m.\u001B[39mjson())\n",
      "\u001B[1;31mNameError\u001B[0m: name 'VideoClass' is not defined"
     ]
    }
   ],
   "source": [
    "Video = VideoClass.VideoSet(\n",
    "        bvid = j[\"data\"][\"bvid\"],\n",
    "        title = j[\"data\"][\"title\"],\n",
    "        \n",
    ")"
   ],
   "metadata": {
    "collapsed": false,
    "ExecuteTime": {
     "end_time": "2023-12-02T09:13:49.814433200Z",
     "start_time": "2023-12-02T09:13:49.765656100Z"
    }
   },
   "id": "cec75d71646d3426"
  },
  {
   "cell_type": "code",
   "execution_count": null,
   "outputs": [],
   "source": [],
   "metadata": {
    "collapsed": false
   },
   "id": "b14b73e485b10bb4"
  }
 ],
 "metadata": {
  "kernelspec": {
   "display_name": "Python 3",
   "language": "python",
   "name": "python3"
  },
  "language_info": {
   "codemirror_mode": {
    "name": "ipython",
    "version": 2
   },
   "file_extension": ".py",
   "mimetype": "text/x-python",
   "name": "python",
   "nbconvert_exporter": "python",
   "pygments_lexer": "ipython2",
   "version": "2.7.6"
  }
 },
 "nbformat": 4,
 "nbformat_minor": 5
}
