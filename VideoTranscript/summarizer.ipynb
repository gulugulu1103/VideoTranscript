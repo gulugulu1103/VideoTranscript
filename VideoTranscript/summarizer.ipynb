{
 "cells": [
  {
   "cell_type": "code",
   "execution_count": 1,
   "id": "initial_id",
   "metadata": {
    "collapsed": true,
    "ExecuteTime": {
     "end_time": "2023-12-07T04:23:29.405699700Z",
     "start_time": "2023-12-07T04:23:28.274146500Z"
    }
   },
   "outputs": [],
   "source": [
    "import json\n",
    "import os\n",
    "\n",
    "from openai import OpenAI\n",
    "import dotenv\n",
    "\n",
    "import data\n",
    "import utils"
   ]
  },
  {
   "cell_type": "code",
   "execution_count": 2,
   "id": "df244fc7cac42d81",
   "metadata": {
    "collapsed": false,
    "ExecuteTime": {
     "end_time": "2023-12-07T04:23:30.947139Z",
     "start_time": "2023-12-07T04:23:29.403199300Z"
    }
   },
   "outputs": [],
   "source": [
    "api_key = dotenv.get_key(\"../.env\", \"OPENAI_KEY\")\n",
    "client = OpenAI(api_key = api_key, base_url = \"https://orisound.cn/v1\")"
   ]
  },
  {
   "cell_type": "markdown",
   "id": "7330ecd5ca07fab3",
   "metadata": {
    "collapsed": false
   },
   "source": []
  },
  {
   "cell_type": "code",
   "execution_count": 3,
   "id": "7a52cb75fe42fbc7",
   "metadata": {
    "collapsed": false,
    "ExecuteTime": {
     "end_time": "2023-12-07T04:23:30.959971300Z",
     "start_time": "2023-12-07T04:23:30.948638600Z"
    }
   },
   "outputs": [
    {
     "name": "stdout",
     "output_type": "stream",
     "text": [
      "../data/BV1mH4y1y72b\\transcriptions\\[P1]-BV1mH4y1y72b-设计模式：简单工厂.txt\n",
      "../data/BV1mH4y1y72b\\transcriptions\\[P2]-BV1mH4y1y72b-2. 策略模式.txt\n",
      "../data/BV1mH4y1y72b\\transcriptions\\[P3]-BV1mH4y1y72b-备忘录模式.txt\n",
      "../data/BV1mH4y1y72b\\transcriptions\\[P4]-BV1mH4y1y72b-代理模式.txt\n",
      "../data/BV1mH4y1y72b\\transcriptions\\[P5]-BV1mH4y1y72b-单例模式.txt\n",
      "../data/BV1mH4y1y72b\\transcriptions\\[P6]-BV1mH4y1y72b-迭代器模式.txt\n",
      "../data/BV1mH4y1y72b\\transcriptions\\[P7]-BV1mH4y1y72b-访问者模式.txt\n",
      "../data/BV1mH4y1y72b\\transcriptions\\[P8]-BV1mH4y1y72b-观察者模式.txt\n",
      "../data/BV1mH4y1y72b\\transcriptions\\[P9]-BV1mH4y1y72b-解释器模式.txt\n",
      "../data/BV1mH4y1y72b\\transcriptions\\[P10]-BV1mH4y1y72b-命令模式.txt\n",
      "../data/BV1mH4y1y72b\\transcriptions\\[P11]-BV1mH4y1y72b-模板方法模式.txt\n",
      "../data/BV1mH4y1y72b\\transcriptions\\[P12]-BV1mH4y1y72b-桥接模式.txt\n",
      "../data/BV1mH4y1y72b\\transcriptions\\[P13]-BV1mH4y1y72b-适配器模式.txt\n",
      "../data/BV1mH4y1y72b\\transcriptions\\[P14]-BV1mH4y1y72b-外观模式.txt\n",
      "../data/BV1mH4y1y72b\\transcriptions\\[P15]-BV1mH4y1y72b-享元模式.txt\n",
      "../data/BV1mH4y1y72b\\transcriptions\\[P16]-BV1mH4y1y72b-原型模式.txt\n",
      "../data/BV1mH4y1y72b\\transcriptions\\[P17]-BV1mH4y1y72b-责任链模式.txt\n",
      "../data/BV1mH4y1y72b\\transcriptions\\[P18]-BV1mH4y1y72b-中介者模式.txt\n",
      "../data/BV1mH4y1y72b\\transcriptions\\[P19]-BV1mH4y1y72b-装饰模式.txt\n",
      "../data/BV1mH4y1y72b\\transcriptions\\[P20]-BV1mH4y1y72b-状态模式.txt\n",
      "../data/BV1mH4y1y72b\\transcriptions\\[P21]-BV1mH4y1y72b-组合模式.txt\n"
     ]
    }
   ],
   "source": [
    "user_intro_prompt = \"刚入门python的小白\"\n",
    "user_wants = \"\" # deprecated\n",
    "\n",
    "\n",
    "bvid = \"BV1mH4y1y72b\"\n",
    "project_folder = f\"../data/{bvid}\"\n",
    "with open(os.path.join(project_folder, f\"{bvid}.json\"), \"r\", encoding=\"utf-8\") as f:\n",
    "    j = f.read()\n",
    "    video_set = data.VideoSet.model_validate_json(j)\n",
    "video_title = video_set.title\n",
    "for part in video_set.parts:\n",
    "    part_title = part.part\n",
    "    transcript_path = os.path.join(project_folder,\"transcriptions\", f\"[P{part.page}]-{bvid}-{part_title}.txt\")\n",
    "    \n",
    "    prompt = f\"\"\"\n",
    "作为一名专业教程撰写者，你将处理一段名为‘{video_title}’的视频脚本。请根据视频的主要内容和关键点，详细分析并提炼出视频中的核心思路和知识点。目标是为[{user_intro_prompt}]创建一份既包含理论知识又强调实际操作的Markdown教程。在教程中，加入清晰的步骤说明、代码示例（如果适用）、图表，并考虑加入互动元素以增强学习体验。注意使用恰当的Markdown格式和结构，以确保内容的清晰和易读性。\n",
    "\"\"\"\n",
    "    with open(transcript_path, \"r\", encoding=\"utf-8\") as f:\n",
    "        transcript = f.read()\n",
    "    \n",
    "    completion = client.chat.completions.create(\n",
    "      model=\"gpt-4-1106-preview\",\n",
    "      messages=[\n",
    "        {\"role\": \"system\", \"content\": f\"{prompt}\"},\n",
    "        {\"role\": \"user\", \"content\": f\"{transcript}\"}\n",
    "      ]\n",
    "    )\n",
    " "
   ]
  },
  {
   "cell_type": "code",
   "execution_count": 4,
   "id": "6ba0e95290f3fa59",
   "metadata": {
    "ExecuteTime": {
     "end_time": "2023-12-06T10:15:41.114849800Z",
     "start_time": "2023-12-06T10:15:41.099890600Z"
    },
    "collapsed": false
   },
   "outputs": [],
   "source": [
    "prompt = f\"\"\"\n",
    "作为一名专业教程撰写者，你将处理一段名为‘{video_title}’的视频脚本。请根据视频的主要内容和关键点，详细分析并提炼出视频中的核心思路和知识点。目标是为[{user_intro_prompt}]创建一份既包含理论知识又强调实际操作的Markdown教程。在教程中，加入清晰的步骤说明、代码示例（如果适用）、图表，并考虑加入互动元素以增强学习体验。注意使用恰当的Markdown格式和结构，以确保内容的清晰和易读性。\n",
    "\"\"\""
   ]
  },
  {
   "cell_type": "code",
   "execution_count": 5,
   "id": "fdb16c0e38d129d5",
   "metadata": {
    "ExecuteTime": {
     "end_time": "2023-12-06T10:15:41.122350700Z",
     "start_time": "2023-12-06T10:15:41.107884600Z"
    },
    "collapsed": false
   },
   "outputs": [],
   "source": [
    "with open(transcript_path, \"r\", encoding=\"utf-8\") as f:\n",
    "    transcript = f.read()"
   ]
  },
  {
   "cell_type": "code",
   "execution_count": 7,
   "id": "72273f46c79dcb54",
   "metadata": {
    "ExecuteTime": {
     "end_time": "2023-12-06T10:22:35.185587100Z",
     "start_time": "2023-12-06T10:19:39.067532100Z"
    },
    "collapsed": false
   },
   "outputs": [
    {
     "data": {
      "text/plain": [
       "ChatCompletion(id='chatcmpl-8SjK8AEaNmQIXymFLPjnfrBC8NVrL', choices=[Choice(finish_reason='stop', index=0, message=ChatCompletionMessage(content=\"# 设计模式入门 - 简单工厂模式\\n\\n设计模式是开发中常用的一种软件设计思想，它通过一种标准化的方式来解决一类问题。今天，我们将结合一个具体的例子来讲解简单工厂模式。\\n\\n## 简单工厂模式\\n\\n简单工厂模式是一种创建型模式，它通过一个单独的工厂类来创建不同类型的对象，而无需显示地指定它们的具体类。\\n\\n### 场景示例\\n\\n假设我们要为一个商场设计收银软件，收银员根据客户购买的商品单价和数量来收费，现在需要加入打折及促销的功能。\\n\\n### 步骤1：问题分析\\n\\n最初的软件可能仅仅通过单价和数量进行简单的乘法计算，但随着需求的发展，添加不同的折扣和促销方式，如果继续在原有基础上修改，代码将变得复杂且难以维护。\\n\\n### 步骤2：简单工厂模式应用\\n\\n我们引入简单工厂模式，通过工厂类来负责创建不同的折扣对象。\\n\\n#### 创建收费父类\\n\\n```python\\nclass CashSuper:\\n    def accept_cash(self, money):\\n        pass\\n```\\n\\n#### 创建具体的收费子类\\n\\n```python\\nclass CashNormal(CashSuper):\\n    def accept_cash(self, money):\\n        return money\\n\\nclass CashRebate(CashSuper):\\n    def __init__(self, discount):\\n        self.discount = discount\\n\\n    def accept_cash(self, money):\\n        return money * self.discount\\n\\nclass CashReturn(CashSuper):\\n    def __init__(self, money_condition, money_return):\\n        self.money_condition = money_condition\\n        self.money_return = money_return\\n\\n    def accept_cash(self, money):\\n        if money >= self.money_condition:\\n            return money - (money // self.money_condition) * self.money_return\\n        else:\\n            return money\\n```\\n\\n#### 创建工厂类\\n\\n```python\\nclass CashFactory:\\n    def create_cash_accept(self, type):\\n        if type == 'normal':\\n            return CashNormal()\\n        elif type == 'rebate':\\n            return CashRebate(0.8)  # 举例：8折\\n        elif type == 'return':\\n            return CashReturn(300, 100)  # 举例：满300返100\\n```\\n\\n### 步骤3：实际应用\\n\\n假设我们现在要创建一个正常收费的对象：\\n\\n```python\\nfactory = CashFactory()\\ncash = factory.create_cash_accept('normal')\\nprint(cash.accept_cash(1000))  # 输出1000，不打折\\n```\\n\\n如果需求变更，要求打八折：\\n\\n```python\\ncash = factory.create_cash_accept('rebate')\\nprint(cash.accept_cash(1000))  # 输出800，打八折\\n```\\n\\n### 步骤4：优点与改进\\n\\n简单工厂模式的优点在于，将对象的创建和使用分离，有助于系统的解耦和扩展。但当有新的折扣方式加入时，依旧需要修改工厂类，违反了开闭原则。\\n\\n为进一步优化代码，可以考虑策略模式，将变化的部分封装起来，增强系统的灵活性和可维护性。\\n\\n## 小结\\n\\n通过以上步骤，我们能够理解简单工厂模式的基本概念和应用场景，可以看出，设计模式能够帮助我们更好地组织和应对代码变更，但也需要根据实际情况选择合适的设计模式。\\n\\n**记得实践！**实现几个具体的练习案例，比如针对不同类型的商品应用不同的折扣策略，或者针对特殊日子（如黑色星期五）应用特殊的促销策略。\\n\\n_Happy Coding!_\", role='assistant', function_call=None, tool_calls=None), content_filter_results={'hate': {'filtered': False, 'severity': 'safe'}, 'self_harm': {'filtered': False, 'severity': 'safe'}, 'sexual': {'filtered': False, 'severity': 'safe'}, 'violence': {'filtered': False, 'severity': 'safe'}})], created=1701858100, model='gpt-4', object='chat.completion', system_fingerprint='fp_50a4261de5', usage=CompletionUsage(completion_tokens=1038, prompt_tokens=6317, total_tokens=7355), prompt_filter_results=[{'prompt_index': 0, 'content_filter_results': {'hate': {'filtered': False, 'severity': 'safe'}, 'self_harm': {'filtered': False, 'severity': 'safe'}, 'sexual': {'filtered': False, 'severity': 'safe'}, 'violence': {'filtered': False, 'severity': 'safe'}}}])"
      ]
     },
     "execution_count": 7,
     "metadata": {},
     "output_type": "execute_result"
    }
   ],
   "source": [
    "completion = client.chat.completions.create(\n",
    "  model=\"gpt-4-1106-preview\",\n",
    "  messages=[\n",
    "    {\"role\": \"system\", \"content\": f\"{prompt}\"},\n",
    "    {\"role\": \"user\", \"content\": f\"{transcript}\"}\n",
    "  ]\n",
    ")\n",
    "completion"
   ]
  },
  {
   "cell_type": "code",
   "execution_count": 12,
   "id": "95c7176f20a52d6d",
   "metadata": {
    "ExecuteTime": {
     "end_time": "2023-12-06T10:24:48.799886600Z",
     "start_time": "2023-12-06T10:24:48.782666400Z"
    },
    "collapsed": false
   },
   "outputs": [
    {
     "data": {
      "text/plain": [
       "\"# 设计模式入门 - 简单工厂模式\\n\\n设计模式是开发中常用的一种软件设计思想，它通过一种标准化的方式来解决一类问题。今天，我们将结合一个具体的例子来讲解简单工厂模式。\\n\\n## 简单工厂模式\\n\\n简单工厂模式是一种创建型模式，它通过一个单独的工厂类来创建不同类型的对象，而无需显示地指定它们的具体类。\\n\\n### 场景示例\\n\\n假设我们要为一个商场设计收银软件，收银员根据客户购买的商品单价和数量来收费，现在需要加入打折及促销的功能。\\n\\n### 步骤1：问题分析\\n\\n最初的软件可能仅仅通过单价和数量进行简单的乘法计算，但随着需求的发展，添加不同的折扣和促销方式，如果继续在原有基础上修改，代码将变得复杂且难以维护。\\n\\n### 步骤2：简单工厂模式应用\\n\\n我们引入简单工厂模式，通过工厂类来负责创建不同的折扣对象。\\n\\n#### 创建收费父类\\n\\n```python\\nclass CashSuper:\\n    def accept_cash(self, money):\\n        pass\\n```\\n\\n#### 创建具体的收费子类\\n\\n```python\\nclass CashNormal(CashSuper):\\n    def accept_cash(self, money):\\n        return money\\n\\nclass CashRebate(CashSuper):\\n    def __init__(self, discount):\\n        self.discount = discount\\n\\n    def accept_cash(self, money):\\n        return money * self.discount\\n\\nclass CashReturn(CashSuper):\\n    def __init__(self, money_condition, money_return):\\n        self.money_condition = money_condition\\n        self.money_return = money_return\\n\\n    def accept_cash(self, money):\\n        if money >= self.money_condition:\\n            return money - (money // self.money_condition) * self.money_return\\n        else:\\n            return money\\n```\\n\\n#### 创建工厂类\\n\\n```python\\nclass CashFactory:\\n    def create_cash_accept(self, type):\\n        if type == 'normal':\\n            return CashNormal()\\n        elif type == 'rebate':\\n            return CashRebate(0.8)  # 举例：8折\\n        elif type == 'return':\\n            return CashReturn(300, 100)  # 举例：满300返100\\n```\\n\\n### 步骤3：实际应用\\n\\n假设我们现在要创建一个正常收费的对象：\\n\\n```python\\nfactory = CashFactory()\\ncash = factory.create_cash_accept('normal')\\nprint(cash.accept_cash(1000))  # 输出1000，不打折\\n```\\n\\n如果需求变更，要求打八折：\\n\\n```python\\ncash = factory.create_cash_accept('rebate')\\nprint(cash.accept_cash(1000))  # 输出800，打八折\\n```\\n\\n### 步骤4：优点与改进\\n\\n简单工厂模式的优点在于，将对象的创建和使用分离，有助于系统的解耦和扩展。但当有新的折扣方式加入时，依旧需要修改工厂类，违反了开闭原则。\\n\\n为进一步优化代码，可以考虑策略模式，将变化的部分封装起来，增强系统的灵活性和可维护性。\\n\\n## 小结\\n\\n通过以上步骤，我们能够理解简单工厂模式的基本概念和应用场景，可以看出，设计模式能够帮助我们更好地组织和应对代码变更，但也需要根据实际情况选择合适的设计模式。\\n\\n**记得实践！**实现几个具体的练习案例，比如针对不同类型的商品应用不同的折扣策略，或者针对特殊日子（如黑色星期五）应用特殊的促销策略。\\n\\n_Happy Coding!_\""
      ]
     },
     "execution_count": 12,
     "metadata": {},
     "output_type": "execute_result"
    }
   ],
   "source": [
    "with open(\"output.md\", \"w\", encoding=\"utf-8\") as f:\n",
    "    f.write(completion.choices[0].message.content)\n",
    "completion.choices[0].message.content"
   ]
  },
  {
   "cell_type": "code",
   "execution_count": null,
   "id": "ee2c30fc62063ea6",
   "metadata": {
    "collapsed": false
   },
   "outputs": [],
   "source": []
  }
 ],
 "metadata": {
  "kernelspec": {
   "display_name": "Python 3",
   "language": "python",
   "name": "python3"
  },
  "language_info": {
   "codemirror_mode": {
    "name": "ipython",
    "version": 2
   },
   "file_extension": ".py",
   "mimetype": "text/x-python",
   "name": "python",
   "nbconvert_exporter": "python",
   "pygments_lexer": "ipython2",
   "version": "2.7.6"
  }
 },
 "nbformat": 4,
 "nbformat_minor": 5
}
