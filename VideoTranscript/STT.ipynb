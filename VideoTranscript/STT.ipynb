{
 "cells": [
  {
   "cell_type": "code",
   "execution_count": 17,
   "id": "initial_id",
   "metadata": {
    "collapsed": true,
    "ExecuteTime": {
     "end_time": "2023-12-03T16:55:18.702873700Z",
     "start_time": "2023-12-03T16:55:18.689087700Z"
    }
   },
   "outputs": [
    {
     "data": {
      "text/plain": "'sk-K6ybJoiWHnudjepY5d97B7AcC57642C89f9a1dF0B3891e60'"
     },
     "execution_count": 17,
     "metadata": {},
     "output_type": "execute_result"
    }
   ],
   "source": [
    "import openai\n",
    "import dotenv\n",
    "from openai import OpenAI\n",
    "\n",
    "api_key = dotenv.get_key(\".env\", \"OPENAI_KEY\")\n",
    "api_key\n"
   ]
  },
  {
   "cell_type": "code",
   "execution_count": 18,
   "outputs": [
    {
     "data": {
      "text/plain": "Transcription(text='我们来学习一门新的技术 Kubernetes 为什么Kubernetes学起来很难 第一Kubernetes本身比较复杂 组件众多 安装过程比较麻烦 本课程我们使用K3s快速创建学习环境 而不是把时间和精力浪费在搭建环境上 第二K8s是谷歌开源的项目 我们在使用过程中会遇到网络问题 许多谷歌镜像或者是软件仓库访问不到 本课程会包含配置阿里云镜像加速 以及手动拉取镜像导入导出镜像的内容 第三Kubernetes版本有重大变化 网上好多教程已过时 Kubernetes从1.24版本开始 移除了对docker的支持 本课程采用1.25版本 使用content-d作为容器运行时 课程中对content-d的用法 以及使用过程中可能遇到的问题 进行了说明 第四官方文档中有许多错误 许多例子或者命令运行不起来 本课程会帮你逼过官方文档中的坑 最后很多教程只有例子没有实战 导致一学就会一用就废 课程的最后我们会安装常用的中间件 例如mysql集群redis集群 以及将一个完整的应用运行在k8s之上 这个应用包括前端缓存数据库和后端程序')"
     },
     "execution_count": 18,
     "metadata": {},
     "output_type": "execute_result"
    }
   ],
   "source": [
    "client = OpenAI(api_key = api_key,\n",
    "                base_url = \"https://orisound.cn/v1\")\n",
    "\n",
    "file = \"../download/BV1YQ4y187V5/[P1]-BV1YQ4y187V5-说说浏览器内核的代码架构.mp4\"\n",
    "\n",
    "file = r\"C:\\Users\\gulugulu1103\\AppData\\Roaming\\JetBrains\\PyCharm2023.2\\scratches\\test.mp4\"\n",
    "\n",
    "with open(file, \"rb\") as f:\n",
    "    transcript = client.audio.transcriptions.create(\n",
    "      model=\"whisper-1\",\n",
    "      file=f,\n",
    "      response_format=\"json\"\n",
    "    )\n",
    "\n",
    "transcript"
   ],
   "metadata": {
    "collapsed": false,
    "ExecuteTime": {
     "end_time": "2023-12-03T16:55:29.072815600Z",
     "start_time": "2023-12-03T16:55:18.699371700Z"
    }
   },
   "id": "67e3506b721d6ea8"
  }
 ],
 "metadata": {
  "kernelspec": {
   "display_name": "Python 3",
   "language": "python",
   "name": "python3"
  },
  "language_info": {
   "codemirror_mode": {
    "name": "ipython",
    "version": 2
   },
   "file_extension": ".py",
   "mimetype": "text/x-python",
   "name": "python",
   "nbconvert_exporter": "python",
   "pygments_lexer": "ipython2",
   "version": "2.7.6"
  }
 },
 "nbformat": 4,
 "nbformat_minor": 5
}
