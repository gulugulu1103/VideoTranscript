{
 "cells": [
  {
   "cell_type": "code",
   "execution_count": 1,
   "id": "initial_id",
   "metadata": {
    "collapsed": true,
    "ExecuteTime": {
     "end_time": "2023-12-02T11:40:58.642212400Z",
     "start_time": "2023-12-02T11:40:58.463236600Z"
    }
   },
   "outputs": [],
   "source": [
    "import time\n",
    "import requests\n",
    "import dotenv\n",
    "from data import *\n",
    "\n",
    "BV = \"BV1k24y197KC\"\n",
    "\n",
    "BV = \"BV1YQ4y187V5\"\n",
    "\n",
    "bili_key = dotenv.get_key(\".env\", \"BILI_KEY\")\n",
    "header = {\n",
    "    \"User-Agent\": \"Mozilla/5.0 (Windows NT 10.0; Win64; x64) AppleWebKit/537.36 (KHTML, like Gecko) Chrome/121.0.0.0 Safari/537.36 Edg/121.0.0.0\",\n",
    "    \"Accept\": \"application/json, text/plain, */*\",\n",
    "    \"Accept-Encoding\": \"gzip, deflate, br\",\n",
    "    \"Accept-Language\": \"zh-CN,zh;q=0.9,en;q=0.8,en-GB;q=0.7,en-US;q=0.6,ko;q=0.5\",\n",
    "}\n",
    "\n",
    "\n"
   ]
  },
  {
   "cell_type": "markdown",
   "source": [
    "爬虫获取视频json"
   ],
   "metadata": {
    "collapsed": false
   },
   "id": "397c4e49e28eb05e"
  },
  {
   "cell_type": "code",
   "execution_count": 2,
   "outputs": [
    {
     "data": {
      "text/plain": "{'code': 0,\n 'message': '0',\n 'ttl': 1,\n 'data': {'bvid': 'BV1YQ4y187V5',\n  'aid': 705815123,\n  'videos': 1,\n  'tid': 231,\n  'tname': '计算机技术',\n  'copyright': 1,\n  'pic': 'http://i1.hdslb.com/bfs/archive/d46d0708325f04b5ffdd897c76188f534193df98.jpg',\n  'title': '说说浏览器内核的代码架构',\n  'pubdate': 1699628719,\n  'ctime': 1699628719,\n  'desc': '说说浏览器内核的代码架构，简单说一下浏览器的内核需要哪些技术：GTK，http模块，2D矢量图形库，OpenGL，js脚本语言的引擎，html解析，排版+渲染。',\n  'desc_v2': [{'raw_text': '说说浏览器内核的代码架构，简单说一下浏览器的内核需要哪些技术：GTK，http模块，2D矢量图形库，OpenGL，js脚本语言的引擎，html解析，排版+渲染。',\n    'type': 1,\n    'biz_id': 0}],\n  'state': 0,\n  'duration': 3104,\n  'rights': {'bp': 0,\n   'elec': 0,\n   'download': 1,\n   'movie': 0,\n   'pay': 0,\n   'hd5': 0,\n   'no_reprint': 1,\n   'autoplay': 1,\n   'ugc_pay': 0,\n   'is_cooperation': 0,\n   'ugc_pay_preview': 0,\n   'no_background': 0,\n   'clean_mode': 0,\n   'is_stein_gate': 0,\n   'is_360': 0,\n   'no_share': 0,\n   'arc_pay': 0,\n   'free_watch': 0},\n  'owner': {'mid': 3493276204141323,\n   'name': '底层技术栈',\n   'face': 'https://i0.hdslb.com/bfs/face/073ccae67c9c3de4b9aa24c2a1a3f2cb936c8cee.jpg'},\n  'stat': {'aid': 705815123,\n   'view': 13488,\n   'danmaku': 10,\n   'reply': 25,\n   'favorite': 755,\n   'coin': 132,\n   'share': 27,\n   'now_rank': 0,\n   'his_rank': 0,\n   'like': 381,\n   'dislike': 0,\n   'evaluation': '',\n   'argue_msg': '',\n   'vt': 0},\n  'dynamic': '',\n  'cid': 1328111519,\n  'dimension': {'width': 1920, 'height': 1080, 'rotate': 0},\n  'season_id': 1867952,\n  'premiere': None,\n  'teenage_mode': 0,\n  'is_chargeable_season': False,\n  'is_story': False,\n  'is_upower_exclusive': False,\n  'is_upower_play': False,\n  'enable_vt': 0,\n  'vt_display': '',\n  'no_cache': False,\n  'pages': [{'cid': 1328111519,\n    'page': 1,\n    'from': 'vupload',\n    'part': '说说浏览器内核的代码架构',\n    'duration': 3104,\n    'vid': '',\n    'weblink': '',\n    'dimension': {'width': 1920, 'height': 1080, 'rotate': 0},\n    'first_frame': 'http://i1.hdslb.com/bfs/storyff/n231110sa3ij76p60jpwe01nunfov4mc_firsti.jpg'}],\n  'subtitle': {'allow_submit': False, 'list': []},\n  'ugc_season': {'id': 1867952,\n   'title': '浏览器的入门',\n   'cover': 'https://archive.biliimg.com/bfs/archive/a79438e4d569710d42ec89483a3cc289cbad27a9.jpg',\n   'mid': 3493276204141323,\n   'intro': '',\n   'sign_state': 0,\n   'attribute': 140,\n   'sections': [{'season_id': 1867952,\n     'id': 2145451,\n     'title': '正片',\n     'type': 1,\n     'episodes': [{'season_id': 1867952,\n       'section_id': 2145451,\n       'id': 43922308,\n       'aid': 705815123,\n       'cid': 1328111519,\n       'title': '说说浏览器内核的代码架构',\n       'attribute': 0,\n       'arc': {'aid': 705815123,\n        'videos': 0,\n        'type_id': 0,\n        'type_name': '',\n        'copyright': 0,\n        'pic': 'http://i1.hdslb.com/bfs/archive/d46d0708325f04b5ffdd897c76188f534193df98.jpg',\n        'title': '说说浏览器内核的代码架构',\n        'pubdate': 1699628719,\n        'ctime': 1699628719,\n        'desc': '',\n        'state': 0,\n        'duration': 3104,\n        'rights': {'bp': 0,\n         'elec': 0,\n         'download': 0,\n         'movie': 0,\n         'pay': 0,\n         'hd5': 0,\n         'no_reprint': 0,\n         'autoplay': 0,\n         'ugc_pay': 0,\n         'is_cooperation': 0,\n         'ugc_pay_preview': 0,\n         'arc_pay': 0,\n         'free_watch': 0},\n        'author': {'mid': 0, 'name': '', 'face': ''},\n        'stat': {'aid': 705815123,\n         'view': 13488,\n         'danmaku': 10,\n         'reply': 25,\n         'fav': 755,\n         'coin': 132,\n         'share': 27,\n         'now_rank': 0,\n         'his_rank': 0,\n         'like': 381,\n         'dislike': 0,\n         'evaluation': '',\n         'argue_msg': '',\n         'vt': 0,\n         'vv': 13488},\n        'dynamic': '',\n        'dimension': {'width': 0, 'height': 0, 'rotate': 0},\n        'desc_v2': None,\n        'is_chargeable_season': False,\n        'is_blooper': False,\n        'enable_vt': 0,\n        'vt_display': ''},\n       'page': {'cid': 1328111519,\n        'page': 1,\n        'from': 'vupload',\n        'part': '说说浏览器内核的代码架构',\n        'duration': 3104,\n        'vid': '',\n        'weblink': '',\n        'dimension': {'width': 1920, 'height': 1080, 'rotate': 0}},\n       'bvid': 'BV1YQ4y187V5'},\n      {'season_id': 1867952,\n       'section_id': 2145451,\n       'id': 45283924,\n       'aid': 236439884,\n       'cid': 1346202545,\n       'title': '说一下cairo图形库，以及它跟ffmpeg和OpenCV的对接方法',\n       'attribute': 0,\n       'arc': {'aid': 236439884,\n        'videos': 0,\n        'type_id': 0,\n        'type_name': '',\n        'copyright': 0,\n        'pic': 'http://i0.hdslb.com/bfs/archive/598d367c49941928b5e3f7da0b4bc5d6b3c9e7f1.jpg',\n        'title': '说一下cairo图形库，以及它跟ffmpeg和OpenCV的对接方法',\n        'pubdate': 1701093839,\n        'ctime': 1701093839,\n        'desc': '',\n        'state': 0,\n        'duration': 2707,\n        'rights': {'bp': 0,\n         'elec': 0,\n         'download': 0,\n         'movie': 0,\n         'pay': 0,\n         'hd5': 0,\n         'no_reprint': 0,\n         'autoplay': 0,\n         'ugc_pay': 0,\n         'is_cooperation': 0,\n         'ugc_pay_preview': 0,\n         'arc_pay': 0,\n         'free_watch': 0},\n        'author': {'mid': 0, 'name': '', 'face': ''},\n        'stat': {'aid': 236439884,\n         'view': 1070,\n         'danmaku': 0,\n         'reply': 1,\n         'fav': 26,\n         'coin': 2,\n         'share': 0,\n         'now_rank': 0,\n         'his_rank': 0,\n         'like': 41,\n         'dislike': 0,\n         'evaluation': '',\n         'argue_msg': '',\n         'vt': 0,\n         'vv': 1070},\n        'dynamic': '',\n        'dimension': {'width': 0, 'height': 0, 'rotate': 0},\n        'desc_v2': None,\n        'is_chargeable_season': False,\n        'is_blooper': False,\n        'enable_vt': 0,\n        'vt_display': ''},\n       'page': {'cid': 1346202545,\n        'page': 1,\n        'from': 'vupload',\n        'part': '说一下cairo图形库，以及它跟ffmpeg和OpenCV的对接方法',\n        'duration': 2707,\n        'vid': '',\n        'weblink': '',\n        'dimension': {'width': 1920, 'height': 1080, 'rotate': 0}},\n       'bvid': 'BV1bv411F7wJ'}]}],\n   'stat': {'season_id': 1867952,\n    'view': 14558,\n    'danmaku': 10,\n    'reply': 26,\n    'fav': 781,\n    'coin': 134,\n    'share': 27,\n    'now_rank': 0,\n    'his_rank': 0,\n    'like': 422,\n    'vt': 0,\n    'vv': 0},\n   'ep_count': 2,\n   'season_type': 1,\n   'is_pay_season': False,\n   'enable_vt': 0},\n  'is_season_display': True,\n  'user_garb': {'url_image_ani_cut': ''},\n  'honor_reply': {},\n  'like_icon': '',\n  'need_jump_bv': False,\n  'disable_show_up_info': False}}"
     },
     "execution_count": 2,
     "metadata": {},
     "output_type": "execute_result"
    }
   ],
   "source": [
    "response = requests.get(\"https://bili.zhouql.vip/meta/\" + BV, headers = header)\n",
    "response.encoding = 'utf-8'\n",
    "j = response.json()\n",
    "j"
   ],
   "metadata": {
    "collapsed": false,
    "ExecuteTime": {
     "end_time": "2023-12-02T11:40:59.398688100Z",
     "start_time": "2023-12-02T11:40:58.641713100Z"
    }
   },
   "id": "166227ec344f6d25"
  },
  {
   "cell_type": "markdown",
   "source": [
    "获取视频信息，但是不添加下载链接"
   ],
   "metadata": {
    "collapsed": false
   },
   "id": "6f2c24ac6ca10f36"
  },
  {
   "cell_type": "code",
   "execution_count": 3,
   "outputs": [
    {
     "name": "stdout",
     "output_type": "stream",
     "text": [
      "{'cid': 1328111519, 'page': 1, 'part': '说说浏览器内核的代码架构', 'duration': 3104, 'dimension': {'width': 1920, 'height': 1080, 'rotate': 0}, 'first_frame_url': 'http://i1.hdslb.com/bfs/storyff/n231110sa3ij76p60jpwe01nunfov4mc_firsti.jpg', 'download_url': None}\n"
     ]
    }
   ],
   "source": [
    "parts = []\n",
    "for each in j[\"data\"][\"pages\"]:\n",
    "    new_part = VideoPart(\n",
    "        cid = each[\"cid\"],\n",
    "        page = each[\"page\"],\n",
    "        part = each[\"part\"],\n",
    "        duration = each[\"duration\"],\n",
    "        dimension = each[\"dimension\"],\n",
    "        first_frame_url = each[\"first_frame\"],\n",
    "        download_url = None\n",
    "    )\n",
    "    parts.append(new_part)\n",
    "\n",
    "for each in parts:\n",
    "    print(each.__dict__)"
   ],
   "metadata": {
    "collapsed": false,
    "ExecuteTime": {
     "end_time": "2023-12-02T11:40:59.411692Z",
     "start_time": "2023-12-02T11:40:59.396685Z"
    }
   },
   "id": "cec75d71646d3426"
  },
  {
   "cell_type": "markdown",
   "source": [
    "获取视频合集信息"
   ],
   "metadata": {
    "collapsed": false
   },
   "id": "b791f8443a610ae8"
  },
  {
   "cell_type": "code",
   "execution_count": 4,
   "outputs": [
    {
     "data": {
      "text/plain": "{'aid': 705815123,\n 'bvid': 'BV1YQ4y187V5',\n 'title': '说说浏览器内核的代码架构',\n 'desc': None,\n 'part_num': 1,\n 'parts': [<VideoClass.VideoPart at 0x1c09b7bd9d0>],\n 'cover_url': 'http://i1.hdslb.com/bfs/archive/d46d0708325f04b5ffdd897c76188f534193df98.jpg'}"
     },
     "execution_count": 4,
     "metadata": {},
     "output_type": "execute_result"
    }
   ],
   "source": [
    "video_set = VideoSet(\n",
    "        aid = j[\"data\"][\"aid\"],\n",
    "        bvid = j[\"data\"][\"bvid\"],\n",
    "        title = j[\"data\"][\"title\"],\n",
    "        part_num = j[\"data\"][\"videos\"],\n",
    "        parts = parts,\n",
    "        cover_url = j[\"data\"][\"pic\"],\n",
    ")\n",
    "video_set.__dict__"
   ],
   "metadata": {
    "collapsed": false,
    "ExecuteTime": {
     "end_time": "2023-12-02T11:40:59.521345Z",
     "start_time": "2023-12-02T11:40:59.410190600Z"
    }
   },
   "id": "b14b73e485b10bb4"
  },
  {
   "cell_type": "markdown",
   "source": [
    "获取视频下载链接"
   ],
   "metadata": {
    "collapsed": false
   },
   "id": "4a079f16fb16bd58"
  },
  {
   "cell_type": "code",
   "execution_count": 5,
   "outputs": [
    {
     "name": "stdout",
     "output_type": "stream",
     "text": [
      "{'cid': 1328111519, 'page': 1, 'part': '说说浏览器内核的代码架构', 'duration': 3104, 'dimension': {'width': 1920, 'height': 1080, 'rotate': 0}, 'first_frame_url': 'http://i1.hdslb.com/bfs/storyff/n231110sa3ij76p60jpwe01nunfov4mc_firsti.jpg', 'download_url': 'https://cn-jsnt-ct-01-23.bilivideo.com/upgcxcode/19/15/1328111519/1328111519-1-16.mp4?e=ig8euxZM2rNcNbRVhwdVhwdlhWdVhwdVhoNvNC8BqJIzNbfq9rVEuxTEnE8L5F6VnEsSTx0vkX8fqJeYTj_lta53NCM=&uipk=5&nbs=1&deadline=1701524455&gen=playurlv2&os=bcache&oi=2043500563&trid=0000dc6a4e6d06e64fdea6bcdb457dfe6c10h&mid=0&platform=html5&upsig=182f041cc01016656a0c514e19d756e0&uparams=e,uipk,nbs,deadline,gen,os,oi,trid,mid,platform&cdnid=9931&bvc=vod&nettype=0&f=h_0_0&bw=11909&logo=80000000'}\n"
     ]
    }
   ],
   "source": [
    "for each in video_set.parts:\n",
    "    response = requests.get(\"https://bili.zhouql.vip/download/\" + str(video_set.aid) + \"/\" + str(each.cid), headers = header)\n",
    "    response.encoding = 'utf-8'\n",
    "    j = response.json()\n",
    "    each.download_url = j[\"data\"][\"durl\"][0][\"url\"]\n",
    "    time.sleep(3)\n",
    "    print(each.__dict__)"
   ],
   "metadata": {
    "collapsed": false,
    "ExecuteTime": {
     "end_time": "2023-12-02T11:41:03.174856200Z",
     "start_time": "2023-12-02T11:40:59.423801Z"
    }
   },
   "id": "8c07dbd4bf607cd9"
  },
  {
   "cell_type": "markdown",
   "source": [
    "下载视频"
   ],
   "metadata": {
    "collapsed": false
   },
   "id": "e4e658a8b4827699"
  },
  {
   "cell_type": "code",
   "execution_count": 6,
   "outputs": [
    {
     "data": {
      "text/plain": "True"
     },
     "execution_count": 6,
     "metadata": {},
     "output_type": "execute_result"
    }
   ],
   "source": [
    "from VideoUtils import VideoUtils\n",
    "\n",
    "VideoUtils.download_videoset(video_set)"
   ],
   "metadata": {
    "collapsed": false,
    "ExecuteTime": {
     "end_time": "2023-12-02T11:41:43.749217400Z",
     "start_time": "2023-12-02T11:41:03.167351Z"
    }
   },
   "id": "ee00fa65fae462f0"
  },
  {
   "cell_type": "code",
   "execution_count": 6,
   "outputs": [],
   "source": [],
   "metadata": {
    "collapsed": false,
    "ExecuteTime": {
     "end_time": "2023-12-02T11:41:43.750211900Z",
     "start_time": "2023-12-02T11:41:43.746792700Z"
    }
   },
   "id": "d57fef3514093c40"
  }
 ],
 "metadata": {
  "kernelspec": {
   "display_name": "Python 3",
   "language": "python",
   "name": "python3"
  },
  "language_info": {
   "codemirror_mode": {
    "name": "ipython",
    "version": 2
   },
   "file_extension": ".py",
   "mimetype": "text/x-python",
   "name": "python",
   "nbconvert_exporter": "python",
   "pygments_lexer": "ipython2",
   "version": "2.7.6"
  }
 },
 "nbformat": 4,
 "nbformat_minor": 5
}
